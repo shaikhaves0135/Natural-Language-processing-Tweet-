{
  "cells": [
    {
      "cell_type": "code",
      "execution_count": null,
      "metadata": {
        "id": "gSD_7q4kbdvm",
        "colab": {
          "base_uri": "https://localhost:8080/"
        },
        "outputId": "b3885e33-e9b3-439d-def4-7f159aa04d2e"
      },
      "outputs": [
        {
          "output_type": "stream",
          "name": "stderr",
          "text": [
            "[nltk_data] Downloading package punkt to /root/nltk_data...\n",
            "[nltk_data]   Unzipping tokenizers/punkt.zip.\n",
            "[nltk_data] Downloading package wordnet to /root/nltk_data...\n",
            "[nltk_data] Downloading package stopwords to /root/nltk_data...\n",
            "[nltk_data]   Unzipping corpora/stopwords.zip.\n"
          ]
        }
      ],
      "source": [
        "import numpy as np\n",
        "import pandas as pd\n",
        "import matplotlib.pyplot as plt\n",
        "import seaborn as sns\n",
        "from wordcloud import WordCloud\n",
        "\n",
        "import nltk\n",
        "nltk.download(\"punkt\")\n",
        "nltk.download(\"wordnet\")\n",
        "nltk.download(\"stopwords\")\n",
        "\n",
        "from nltk.corpus import stopwords\n",
        "from nltk.tokenize import word_tokenize\n",
        "from nltk.stem import WordNetLemmatizer\n",
        "\n",
        "from sklearn.model_selection import train_test_split\n",
        "from tensorflow.keras.preprocessing.text import Tokenizer\n",
        "from tensorflow.keras.preprocessing import sequence #unique id\n",
        "\n",
        "from tensorflow.keras.models import Sequential\n",
        "from tensorflow.keras.layers import Dense, SimpleRNN, LSTM, Dropout, Embedding,GRU\n",
        "\n",
        "import warnings\n",
        "warnings.filterwarnings(\"ignore\")"
      ]
    },
    {
      "cell_type": "code",
      "execution_count": null,
      "metadata": {
        "id": "xpthYBLkbwxK"
      },
      "outputs": [],
      "source": [
        "train_data = pd.read_csv(\"/content/Corona_NLP_train.csv\",encoding = \"latin1\")\n",
        "test_data = pd.read_csv(\"/content/Corona_NLP_test.csv\",encoding = \"latin1\")"
      ]
    },
    {
      "cell_type": "code",
      "execution_count": null,
      "metadata": {
        "id": "Wp4O6a7yg8qi",
        "colab": {
          "base_uri": "https://localhost:8080/",
          "height": 206
        },
        "outputId": "2e2caa37-7649-4127-a4a4-f3d607afe4d6"
      },
      "outputs": [
        {
          "output_type": "execute_result",
          "data": {
            "text/plain": [
              "   UserName  ScreenName   Location     TweetAt  \\\n",
              "0      3799       48751     London  16-03-2020   \n",
              "1      3800       48752         UK  16-03-2020   \n",
              "2      3801       48753  Vagabonds  16-03-2020   \n",
              "3      3802       48754        NaN  16-03-2020   \n",
              "4      3803       48755        NaN  16-03-2020   \n",
              "\n",
              "                                       OriginalTweet           Sentiment  \n",
              "0  @MeNyrbie @Phil_Gahan @Chrisitv https://t.co/i...             Neutral  \n",
              "1  advice Talk to your neighbours family to excha...            Positive  \n",
              "2  Coronavirus Australia: Woolworths to give elde...            Positive  \n",
              "3  My food stock is not the only one which is emp...            Positive  \n",
              "4  Me, ready to go at supermarket during the #COV...  Extremely Negative  "
            ],
            "text/html": [
              "\n",
              "  <div id=\"df-b800351e-d920-4404-b55c-1cbcbdd6b20d\">\n",
              "    <div class=\"colab-df-container\">\n",
              "      <div>\n",
              "<style scoped>\n",
              "    .dataframe tbody tr th:only-of-type {\n",
              "        vertical-align: middle;\n",
              "    }\n",
              "\n",
              "    .dataframe tbody tr th {\n",
              "        vertical-align: top;\n",
              "    }\n",
              "\n",
              "    .dataframe thead th {\n",
              "        text-align: right;\n",
              "    }\n",
              "</style>\n",
              "<table border=\"1\" class=\"dataframe\">\n",
              "  <thead>\n",
              "    <tr style=\"text-align: right;\">\n",
              "      <th></th>\n",
              "      <th>UserName</th>\n",
              "      <th>ScreenName</th>\n",
              "      <th>Location</th>\n",
              "      <th>TweetAt</th>\n",
              "      <th>OriginalTweet</th>\n",
              "      <th>Sentiment</th>\n",
              "    </tr>\n",
              "  </thead>\n",
              "  <tbody>\n",
              "    <tr>\n",
              "      <th>0</th>\n",
              "      <td>3799</td>\n",
              "      <td>48751</td>\n",
              "      <td>London</td>\n",
              "      <td>16-03-2020</td>\n",
              "      <td>@MeNyrbie @Phil_Gahan @Chrisitv https://t.co/i...</td>\n",
              "      <td>Neutral</td>\n",
              "    </tr>\n",
              "    <tr>\n",
              "      <th>1</th>\n",
              "      <td>3800</td>\n",
              "      <td>48752</td>\n",
              "      <td>UK</td>\n",
              "      <td>16-03-2020</td>\n",
              "      <td>advice Talk to your neighbours family to excha...</td>\n",
              "      <td>Positive</td>\n",
              "    </tr>\n",
              "    <tr>\n",
              "      <th>2</th>\n",
              "      <td>3801</td>\n",
              "      <td>48753</td>\n",
              "      <td>Vagabonds</td>\n",
              "      <td>16-03-2020</td>\n",
              "      <td>Coronavirus Australia: Woolworths to give elde...</td>\n",
              "      <td>Positive</td>\n",
              "    </tr>\n",
              "    <tr>\n",
              "      <th>3</th>\n",
              "      <td>3802</td>\n",
              "      <td>48754</td>\n",
              "      <td>NaN</td>\n",
              "      <td>16-03-2020</td>\n",
              "      <td>My food stock is not the only one which is emp...</td>\n",
              "      <td>Positive</td>\n",
              "    </tr>\n",
              "    <tr>\n",
              "      <th>4</th>\n",
              "      <td>3803</td>\n",
              "      <td>48755</td>\n",
              "      <td>NaN</td>\n",
              "      <td>16-03-2020</td>\n",
              "      <td>Me, ready to go at supermarket during the #COV...</td>\n",
              "      <td>Extremely Negative</td>\n",
              "    </tr>\n",
              "  </tbody>\n",
              "</table>\n",
              "</div>\n",
              "      <button class=\"colab-df-convert\" onclick=\"convertToInteractive('df-b800351e-d920-4404-b55c-1cbcbdd6b20d')\"\n",
              "              title=\"Convert this dataframe to an interactive table.\"\n",
              "              style=\"display:none;\">\n",
              "        \n",
              "  <svg xmlns=\"http://www.w3.org/2000/svg\" height=\"24px\"viewBox=\"0 0 24 24\"\n",
              "       width=\"24px\">\n",
              "    <path d=\"M0 0h24v24H0V0z\" fill=\"none\"/>\n",
              "    <path d=\"M18.56 5.44l.94 2.06.94-2.06 2.06-.94-2.06-.94-.94-2.06-.94 2.06-2.06.94zm-11 1L8.5 8.5l.94-2.06 2.06-.94-2.06-.94L8.5 2.5l-.94 2.06-2.06.94zm10 10l.94 2.06.94-2.06 2.06-.94-2.06-.94-.94-2.06-.94 2.06-2.06.94z\"/><path d=\"M17.41 7.96l-1.37-1.37c-.4-.4-.92-.59-1.43-.59-.52 0-1.04.2-1.43.59L10.3 9.45l-7.72 7.72c-.78.78-.78 2.05 0 2.83L4 21.41c.39.39.9.59 1.41.59.51 0 1.02-.2 1.41-.59l7.78-7.78 2.81-2.81c.8-.78.8-2.07 0-2.86zM5.41 20L4 18.59l7.72-7.72 1.47 1.35L5.41 20z\"/>\n",
              "  </svg>\n",
              "      </button>\n",
              "      \n",
              "  <style>\n",
              "    .colab-df-container {\n",
              "      display:flex;\n",
              "      flex-wrap:wrap;\n",
              "      gap: 12px;\n",
              "    }\n",
              "\n",
              "    .colab-df-convert {\n",
              "      background-color: #E8F0FE;\n",
              "      border: none;\n",
              "      border-radius: 50%;\n",
              "      cursor: pointer;\n",
              "      display: none;\n",
              "      fill: #1967D2;\n",
              "      height: 32px;\n",
              "      padding: 0 0 0 0;\n",
              "      width: 32px;\n",
              "    }\n",
              "\n",
              "    .colab-df-convert:hover {\n",
              "      background-color: #E2EBFA;\n",
              "      box-shadow: 0px 1px 2px rgba(60, 64, 67, 0.3), 0px 1px 3px 1px rgba(60, 64, 67, 0.15);\n",
              "      fill: #174EA6;\n",
              "    }\n",
              "\n",
              "    [theme=dark] .colab-df-convert {\n",
              "      background-color: #3B4455;\n",
              "      fill: #D2E3FC;\n",
              "    }\n",
              "\n",
              "    [theme=dark] .colab-df-convert:hover {\n",
              "      background-color: #434B5C;\n",
              "      box-shadow: 0px 1px 3px 1px rgba(0, 0, 0, 0.15);\n",
              "      filter: drop-shadow(0px 1px 2px rgba(0, 0, 0, 0.3));\n",
              "      fill: #FFFFFF;\n",
              "    }\n",
              "  </style>\n",
              "\n",
              "      <script>\n",
              "        const buttonEl =\n",
              "          document.querySelector('#df-b800351e-d920-4404-b55c-1cbcbdd6b20d button.colab-df-convert');\n",
              "        buttonEl.style.display =\n",
              "          google.colab.kernel.accessAllowed ? 'block' : 'none';\n",
              "\n",
              "        async function convertToInteractive(key) {\n",
              "          const element = document.querySelector('#df-b800351e-d920-4404-b55c-1cbcbdd6b20d');\n",
              "          const dataTable =\n",
              "            await google.colab.kernel.invokeFunction('convertToInteractive',\n",
              "                                                     [key], {});\n",
              "          if (!dataTable) return;\n",
              "\n",
              "          const docLinkHtml = 'Like what you see? Visit the ' +\n",
              "            '<a target=\"_blank\" href=https://colab.research.google.com/notebooks/data_table.ipynb>data table notebook</a>'\n",
              "            + ' to learn more about interactive tables.';\n",
              "          element.innerHTML = '';\n",
              "          dataTable['output_type'] = 'display_data';\n",
              "          await google.colab.output.renderOutput(dataTable, element);\n",
              "          const docLink = document.createElement('div');\n",
              "          docLink.innerHTML = docLinkHtml;\n",
              "          element.appendChild(docLink);\n",
              "        }\n",
              "      </script>\n",
              "    </div>\n",
              "  </div>\n",
              "  "
            ]
          },
          "metadata": {},
          "execution_count": 3
        }
      ],
      "source": [
        "train_data.head()"
      ]
    },
    {
      "cell_type": "code",
      "execution_count": null,
      "metadata": {
        "id": "HNSD__WAhTy_",
        "colab": {
          "base_uri": "https://localhost:8080/",
          "height": 206
        },
        "outputId": "84feba72-82c5-4c17-e6e6-130e3b398674"
      },
      "outputs": [
        {
          "output_type": "execute_result",
          "data": {
            "text/plain": [
              "   UserName  ScreenName             Location     TweetAt  \\\n",
              "0         1       44953                  NYC  02-03-2020   \n",
              "1         2       44954          Seattle, WA  02-03-2020   \n",
              "2         3       44955                  NaN  02-03-2020   \n",
              "3         4       44956          Chicagoland  02-03-2020   \n",
              "4         5       44957  Melbourne, Victoria  03-03-2020   \n",
              "\n",
              "                                       OriginalTweet           Sentiment  \n",
              "0  TRENDING: New Yorkers encounter empty supermar...  Extremely Negative  \n",
              "1  When I couldn't find hand sanitizer at Fred Me...            Positive  \n",
              "2  Find out how you can protect yourself and love...  Extremely Positive  \n",
              "3  #Panic buying hits #NewYork City as anxious sh...            Negative  \n",
              "4  #toiletpaper #dunnypaper #coronavirus #coronav...             Neutral  "
            ],
            "text/html": [
              "\n",
              "  <div id=\"df-dc685282-0441-41ad-afcc-8e837872bf74\">\n",
              "    <div class=\"colab-df-container\">\n",
              "      <div>\n",
              "<style scoped>\n",
              "    .dataframe tbody tr th:only-of-type {\n",
              "        vertical-align: middle;\n",
              "    }\n",
              "\n",
              "    .dataframe tbody tr th {\n",
              "        vertical-align: top;\n",
              "    }\n",
              "\n",
              "    .dataframe thead th {\n",
              "        text-align: right;\n",
              "    }\n",
              "</style>\n",
              "<table border=\"1\" class=\"dataframe\">\n",
              "  <thead>\n",
              "    <tr style=\"text-align: right;\">\n",
              "      <th></th>\n",
              "      <th>UserName</th>\n",
              "      <th>ScreenName</th>\n",
              "      <th>Location</th>\n",
              "      <th>TweetAt</th>\n",
              "      <th>OriginalTweet</th>\n",
              "      <th>Sentiment</th>\n",
              "    </tr>\n",
              "  </thead>\n",
              "  <tbody>\n",
              "    <tr>\n",
              "      <th>0</th>\n",
              "      <td>1</td>\n",
              "      <td>44953</td>\n",
              "      <td>NYC</td>\n",
              "      <td>02-03-2020</td>\n",
              "      <td>TRENDING: New Yorkers encounter empty supermar...</td>\n",
              "      <td>Extremely Negative</td>\n",
              "    </tr>\n",
              "    <tr>\n",
              "      <th>1</th>\n",
              "      <td>2</td>\n",
              "      <td>44954</td>\n",
              "      <td>Seattle, WA</td>\n",
              "      <td>02-03-2020</td>\n",
              "      <td>When I couldn't find hand sanitizer at Fred Me...</td>\n",
              "      <td>Positive</td>\n",
              "    </tr>\n",
              "    <tr>\n",
              "      <th>2</th>\n",
              "      <td>3</td>\n",
              "      <td>44955</td>\n",
              "      <td>NaN</td>\n",
              "      <td>02-03-2020</td>\n",
              "      <td>Find out how you can protect yourself and love...</td>\n",
              "      <td>Extremely Positive</td>\n",
              "    </tr>\n",
              "    <tr>\n",
              "      <th>3</th>\n",
              "      <td>4</td>\n",
              "      <td>44956</td>\n",
              "      <td>Chicagoland</td>\n",
              "      <td>02-03-2020</td>\n",
              "      <td>#Panic buying hits #NewYork City as anxious sh...</td>\n",
              "      <td>Negative</td>\n",
              "    </tr>\n",
              "    <tr>\n",
              "      <th>4</th>\n",
              "      <td>5</td>\n",
              "      <td>44957</td>\n",
              "      <td>Melbourne, Victoria</td>\n",
              "      <td>03-03-2020</td>\n",
              "      <td>#toiletpaper #dunnypaper #coronavirus #coronav...</td>\n",
              "      <td>Neutral</td>\n",
              "    </tr>\n",
              "  </tbody>\n",
              "</table>\n",
              "</div>\n",
              "      <button class=\"colab-df-convert\" onclick=\"convertToInteractive('df-dc685282-0441-41ad-afcc-8e837872bf74')\"\n",
              "              title=\"Convert this dataframe to an interactive table.\"\n",
              "              style=\"display:none;\">\n",
              "        \n",
              "  <svg xmlns=\"http://www.w3.org/2000/svg\" height=\"24px\"viewBox=\"0 0 24 24\"\n",
              "       width=\"24px\">\n",
              "    <path d=\"M0 0h24v24H0V0z\" fill=\"none\"/>\n",
              "    <path d=\"M18.56 5.44l.94 2.06.94-2.06 2.06-.94-2.06-.94-.94-2.06-.94 2.06-2.06.94zm-11 1L8.5 8.5l.94-2.06 2.06-.94-2.06-.94L8.5 2.5l-.94 2.06-2.06.94zm10 10l.94 2.06.94-2.06 2.06-.94-2.06-.94-.94-2.06-.94 2.06-2.06.94z\"/><path d=\"M17.41 7.96l-1.37-1.37c-.4-.4-.92-.59-1.43-.59-.52 0-1.04.2-1.43.59L10.3 9.45l-7.72 7.72c-.78.78-.78 2.05 0 2.83L4 21.41c.39.39.9.59 1.41.59.51 0 1.02-.2 1.41-.59l7.78-7.78 2.81-2.81c.8-.78.8-2.07 0-2.86zM5.41 20L4 18.59l7.72-7.72 1.47 1.35L5.41 20z\"/>\n",
              "  </svg>\n",
              "      </button>\n",
              "      \n",
              "  <style>\n",
              "    .colab-df-container {\n",
              "      display:flex;\n",
              "      flex-wrap:wrap;\n",
              "      gap: 12px;\n",
              "    }\n",
              "\n",
              "    .colab-df-convert {\n",
              "      background-color: #E8F0FE;\n",
              "      border: none;\n",
              "      border-radius: 50%;\n",
              "      cursor: pointer;\n",
              "      display: none;\n",
              "      fill: #1967D2;\n",
              "      height: 32px;\n",
              "      padding: 0 0 0 0;\n",
              "      width: 32px;\n",
              "    }\n",
              "\n",
              "    .colab-df-convert:hover {\n",
              "      background-color: #E2EBFA;\n",
              "      box-shadow: 0px 1px 2px rgba(60, 64, 67, 0.3), 0px 1px 3px 1px rgba(60, 64, 67, 0.15);\n",
              "      fill: #174EA6;\n",
              "    }\n",
              "\n",
              "    [theme=dark] .colab-df-convert {\n",
              "      background-color: #3B4455;\n",
              "      fill: #D2E3FC;\n",
              "    }\n",
              "\n",
              "    [theme=dark] .colab-df-convert:hover {\n",
              "      background-color: #434B5C;\n",
              "      box-shadow: 0px 1px 3px 1px rgba(0, 0, 0, 0.15);\n",
              "      filter: drop-shadow(0px 1px 2px rgba(0, 0, 0, 0.3));\n",
              "      fill: #FFFFFF;\n",
              "    }\n",
              "  </style>\n",
              "\n",
              "      <script>\n",
              "        const buttonEl =\n",
              "          document.querySelector('#df-dc685282-0441-41ad-afcc-8e837872bf74 button.colab-df-convert');\n",
              "        buttonEl.style.display =\n",
              "          google.colab.kernel.accessAllowed ? 'block' : 'none';\n",
              "\n",
              "        async function convertToInteractive(key) {\n",
              "          const element = document.querySelector('#df-dc685282-0441-41ad-afcc-8e837872bf74');\n",
              "          const dataTable =\n",
              "            await google.colab.kernel.invokeFunction('convertToInteractive',\n",
              "                                                     [key], {});\n",
              "          if (!dataTable) return;\n",
              "\n",
              "          const docLinkHtml = 'Like what you see? Visit the ' +\n",
              "            '<a target=\"_blank\" href=https://colab.research.google.com/notebooks/data_table.ipynb>data table notebook</a>'\n",
              "            + ' to learn more about interactive tables.';\n",
              "          element.innerHTML = '';\n",
              "          dataTable['output_type'] = 'display_data';\n",
              "          await google.colab.output.renderOutput(dataTable, element);\n",
              "          const docLink = document.createElement('div');\n",
              "          docLink.innerHTML = docLinkHtml;\n",
              "          element.appendChild(docLink);\n",
              "        }\n",
              "      </script>\n",
              "    </div>\n",
              "  </div>\n",
              "  "
            ]
          },
          "metadata": {},
          "execution_count": 4
        }
      ],
      "source": [
        "test_data.head()"
      ]
    },
    {
      "cell_type": "code",
      "execution_count": null,
      "metadata": {
        "id": "s7lVCRs5hZ0z",
        "colab": {
          "base_uri": "https://localhost:8080/"
        },
        "outputId": "9aa4c9f0-4e69-4952-8d76-5c3570178f5e"
      },
      "outputs": [
        {
          "output_type": "execute_result",
          "data": {
            "text/plain": [
              "(41157, 6)"
            ]
          },
          "metadata": {},
          "execution_count": 5
        }
      ],
      "source": [
        "train_data.shape"
      ]
    },
    {
      "cell_type": "code",
      "execution_count": null,
      "metadata": {
        "id": "_IlbmEfgheiF",
        "colab": {
          "base_uri": "https://localhost:8080/"
        },
        "outputId": "30241a6d-e129-40d4-c02d-1c248cc4dd38"
      },
      "outputs": [
        {
          "output_type": "execute_result",
          "data": {
            "text/plain": [
              "(3798, 6)"
            ]
          },
          "metadata": {},
          "execution_count": 6
        }
      ],
      "source": [
        "test_data.shape"
      ]
    },
    {
      "cell_type": "code",
      "execution_count": null,
      "metadata": {
        "id": "qIjcc1WthgoR"
      },
      "outputs": [],
      "source": [
        "\n",
        "train_data = train_data[[\"OriginalTweet\",\"Sentiment\"]]\n",
        "test_data = test_data[[\"OriginalTweet\",\"Sentiment\"]]"
      ]
    },
    {
      "cell_type": "code",
      "execution_count": null,
      "metadata": {
        "id": "CyCgOjPUh2XM"
      },
      "outputs": [],
      "source": [
        "train_data = train_data.sample(10000,random_state = 2)"
      ]
    },
    {
      "cell_type": "code",
      "execution_count": null,
      "metadata": {
        "id": "V-JB6EXUh4SZ"
      },
      "outputs": [],
      "source": [
        "test_data = test_data.sample(2000,random_state = 2)"
      ]
    },
    {
      "cell_type": "code",
      "execution_count": null,
      "metadata": {
        "id": "V1W99dbVh6rR",
        "colab": {
          "base_uri": "https://localhost:8080/"
        },
        "outputId": "a5b3a060-a9bf-44a3-9be0-709df8f9b403"
      },
      "outputs": [
        {
          "output_type": "execute_result",
          "data": {
            "text/plain": [
              "OriginalTweet    0\n",
              "Sentiment        0\n",
              "dtype: int64"
            ]
          },
          "metadata": {},
          "execution_count": 10
        }
      ],
      "source": [
        "train_data.isnull().sum()"
      ]
    },
    {
      "cell_type": "code",
      "execution_count": null,
      "metadata": {
        "id": "KAm2-0Eah_NG",
        "colab": {
          "base_uri": "https://localhost:8080/"
        },
        "outputId": "a3eabe45-e6cc-42a0-f942-d31c1bc30094"
      },
      "outputs": [
        {
          "output_type": "execute_result",
          "data": {
            "text/plain": [
              "OriginalTweet    0\n",
              "Sentiment        0\n",
              "dtype: int64"
            ]
          },
          "metadata": {},
          "execution_count": 11
        }
      ],
      "source": [
        "test_data.isnull().sum()"
      ]
    },
    {
      "cell_type": "code",
      "execution_count": null,
      "metadata": {
        "id": "oIKJkSrHi8zT",
        "colab": {
          "base_uri": "https://localhost:8080/",
          "height": 206
        },
        "outputId": "24176567-8c88-4dbb-f7ea-912de2f4614e"
      },
      "outputs": [
        {
          "output_type": "execute_result",
          "data": {
            "text/plain": [
              "                                           OriginalTweet           Sentiment\n",
              "20931  Every 1st responder( including the delivery pe...  Extremely Positive\n",
              "34498  Now more than ever, spot the #coronavirus scam...            Negative\n",
              "4717   More than one in four Americans are actively a...  Extremely Negative\n",
              "12499  ?@BILD? newspaper posts images of #German chan...             Neutral\n",
              "18112  Just sent my husband to the grocery store like...            Negative"
            ],
            "text/html": [
              "\n",
              "  <div id=\"df-60ccf9a8-41c4-46eb-a14c-e8f7010c0764\">\n",
              "    <div class=\"colab-df-container\">\n",
              "      <div>\n",
              "<style scoped>\n",
              "    .dataframe tbody tr th:only-of-type {\n",
              "        vertical-align: middle;\n",
              "    }\n",
              "\n",
              "    .dataframe tbody tr th {\n",
              "        vertical-align: top;\n",
              "    }\n",
              "\n",
              "    .dataframe thead th {\n",
              "        text-align: right;\n",
              "    }\n",
              "</style>\n",
              "<table border=\"1\" class=\"dataframe\">\n",
              "  <thead>\n",
              "    <tr style=\"text-align: right;\">\n",
              "      <th></th>\n",
              "      <th>OriginalTweet</th>\n",
              "      <th>Sentiment</th>\n",
              "    </tr>\n",
              "  </thead>\n",
              "  <tbody>\n",
              "    <tr>\n",
              "      <th>20931</th>\n",
              "      <td>Every 1st responder( including the delivery pe...</td>\n",
              "      <td>Extremely Positive</td>\n",
              "    </tr>\n",
              "    <tr>\n",
              "      <th>34498</th>\n",
              "      <td>Now more than ever, spot the #coronavirus scam...</td>\n",
              "      <td>Negative</td>\n",
              "    </tr>\n",
              "    <tr>\n",
              "      <th>4717</th>\n",
              "      <td>More than one in four Americans are actively a...</td>\n",
              "      <td>Extremely Negative</td>\n",
              "    </tr>\n",
              "    <tr>\n",
              "      <th>12499</th>\n",
              "      <td>?@BILD? newspaper posts images of #German chan...</td>\n",
              "      <td>Neutral</td>\n",
              "    </tr>\n",
              "    <tr>\n",
              "      <th>18112</th>\n",
              "      <td>Just sent my husband to the grocery store like...</td>\n",
              "      <td>Negative</td>\n",
              "    </tr>\n",
              "  </tbody>\n",
              "</table>\n",
              "</div>\n",
              "      <button class=\"colab-df-convert\" onclick=\"convertToInteractive('df-60ccf9a8-41c4-46eb-a14c-e8f7010c0764')\"\n",
              "              title=\"Convert this dataframe to an interactive table.\"\n",
              "              style=\"display:none;\">\n",
              "        \n",
              "  <svg xmlns=\"http://www.w3.org/2000/svg\" height=\"24px\"viewBox=\"0 0 24 24\"\n",
              "       width=\"24px\">\n",
              "    <path d=\"M0 0h24v24H0V0z\" fill=\"none\"/>\n",
              "    <path d=\"M18.56 5.44l.94 2.06.94-2.06 2.06-.94-2.06-.94-.94-2.06-.94 2.06-2.06.94zm-11 1L8.5 8.5l.94-2.06 2.06-.94-2.06-.94L8.5 2.5l-.94 2.06-2.06.94zm10 10l.94 2.06.94-2.06 2.06-.94-2.06-.94-.94-2.06-.94 2.06-2.06.94z\"/><path d=\"M17.41 7.96l-1.37-1.37c-.4-.4-.92-.59-1.43-.59-.52 0-1.04.2-1.43.59L10.3 9.45l-7.72 7.72c-.78.78-.78 2.05 0 2.83L4 21.41c.39.39.9.59 1.41.59.51 0 1.02-.2 1.41-.59l7.78-7.78 2.81-2.81c.8-.78.8-2.07 0-2.86zM5.41 20L4 18.59l7.72-7.72 1.47 1.35L5.41 20z\"/>\n",
              "  </svg>\n",
              "      </button>\n",
              "      \n",
              "  <style>\n",
              "    .colab-df-container {\n",
              "      display:flex;\n",
              "      flex-wrap:wrap;\n",
              "      gap: 12px;\n",
              "    }\n",
              "\n",
              "    .colab-df-convert {\n",
              "      background-color: #E8F0FE;\n",
              "      border: none;\n",
              "      border-radius: 50%;\n",
              "      cursor: pointer;\n",
              "      display: none;\n",
              "      fill: #1967D2;\n",
              "      height: 32px;\n",
              "      padding: 0 0 0 0;\n",
              "      width: 32px;\n",
              "    }\n",
              "\n",
              "    .colab-df-convert:hover {\n",
              "      background-color: #E2EBFA;\n",
              "      box-shadow: 0px 1px 2px rgba(60, 64, 67, 0.3), 0px 1px 3px 1px rgba(60, 64, 67, 0.15);\n",
              "      fill: #174EA6;\n",
              "    }\n",
              "\n",
              "    [theme=dark] .colab-df-convert {\n",
              "      background-color: #3B4455;\n",
              "      fill: #D2E3FC;\n",
              "    }\n",
              "\n",
              "    [theme=dark] .colab-df-convert:hover {\n",
              "      background-color: #434B5C;\n",
              "      box-shadow: 0px 1px 3px 1px rgba(0, 0, 0, 0.15);\n",
              "      filter: drop-shadow(0px 1px 2px rgba(0, 0, 0, 0.3));\n",
              "      fill: #FFFFFF;\n",
              "    }\n",
              "  </style>\n",
              "\n",
              "      <script>\n",
              "        const buttonEl =\n",
              "          document.querySelector('#df-60ccf9a8-41c4-46eb-a14c-e8f7010c0764 button.colab-df-convert');\n",
              "        buttonEl.style.display =\n",
              "          google.colab.kernel.accessAllowed ? 'block' : 'none';\n",
              "\n",
              "        async function convertToInteractive(key) {\n",
              "          const element = document.querySelector('#df-60ccf9a8-41c4-46eb-a14c-e8f7010c0764');\n",
              "          const dataTable =\n",
              "            await google.colab.kernel.invokeFunction('convertToInteractive',\n",
              "                                                     [key], {});\n",
              "          if (!dataTable) return;\n",
              "\n",
              "          const docLinkHtml = 'Like what you see? Visit the ' +\n",
              "            '<a target=\"_blank\" href=https://colab.research.google.com/notebooks/data_table.ipynb>data table notebook</a>'\n",
              "            + ' to learn more about interactive tables.';\n",
              "          element.innerHTML = '';\n",
              "          dataTable['output_type'] = 'display_data';\n",
              "          await google.colab.output.renderOutput(dataTable, element);\n",
              "          const docLink = document.createElement('div');\n",
              "          docLink.innerHTML = docLinkHtml;\n",
              "          element.appendChild(docLink);\n",
              "        }\n",
              "      </script>\n",
              "    </div>\n",
              "  </div>\n",
              "  "
            ]
          },
          "metadata": {},
          "execution_count": 12
        }
      ],
      "source": [
        "train_data.head()"
      ]
    },
    {
      "cell_type": "code",
      "execution_count": null,
      "metadata": {
        "id": "BnTv5lz5i-_-",
        "colab": {
          "base_uri": "https://localhost:8080/",
          "height": 206
        },
        "outputId": "b57e9fcd-488c-4b2e-f585-97b044f7ca5b"
      },
      "outputs": [
        {
          "output_type": "execute_result",
          "data": {
            "text/plain": [
              "                                          OriginalTweet           Sentiment\n",
              "849   if you live in a heavily COVID-19 affected are...            Negative\n",
              "1208  Apparently the #Covid_19 virus causes excessiv...            Negative\n",
              "3503  I work in retail part time and the amount of p...  Extremely Negative\n",
              "558   COVID-19... School closures... Univ. classes s...            Negative\n",
              "2044  On a serious note tho, why the hell are us guy...            Negative"
            ],
            "text/html": [
              "\n",
              "  <div id=\"df-0b88289a-ecd5-49bb-883b-81428f9d0592\">\n",
              "    <div class=\"colab-df-container\">\n",
              "      <div>\n",
              "<style scoped>\n",
              "    .dataframe tbody tr th:only-of-type {\n",
              "        vertical-align: middle;\n",
              "    }\n",
              "\n",
              "    .dataframe tbody tr th {\n",
              "        vertical-align: top;\n",
              "    }\n",
              "\n",
              "    .dataframe thead th {\n",
              "        text-align: right;\n",
              "    }\n",
              "</style>\n",
              "<table border=\"1\" class=\"dataframe\">\n",
              "  <thead>\n",
              "    <tr style=\"text-align: right;\">\n",
              "      <th></th>\n",
              "      <th>OriginalTweet</th>\n",
              "      <th>Sentiment</th>\n",
              "    </tr>\n",
              "  </thead>\n",
              "  <tbody>\n",
              "    <tr>\n",
              "      <th>849</th>\n",
              "      <td>if you live in a heavily COVID-19 affected are...</td>\n",
              "      <td>Negative</td>\n",
              "    </tr>\n",
              "    <tr>\n",
              "      <th>1208</th>\n",
              "      <td>Apparently the #Covid_19 virus causes excessiv...</td>\n",
              "      <td>Negative</td>\n",
              "    </tr>\n",
              "    <tr>\n",
              "      <th>3503</th>\n",
              "      <td>I work in retail part time and the amount of p...</td>\n",
              "      <td>Extremely Negative</td>\n",
              "    </tr>\n",
              "    <tr>\n",
              "      <th>558</th>\n",
              "      <td>COVID-19... School closures... Univ. classes s...</td>\n",
              "      <td>Negative</td>\n",
              "    </tr>\n",
              "    <tr>\n",
              "      <th>2044</th>\n",
              "      <td>On a serious note tho, why the hell are us guy...</td>\n",
              "      <td>Negative</td>\n",
              "    </tr>\n",
              "  </tbody>\n",
              "</table>\n",
              "</div>\n",
              "      <button class=\"colab-df-convert\" onclick=\"convertToInteractive('df-0b88289a-ecd5-49bb-883b-81428f9d0592')\"\n",
              "              title=\"Convert this dataframe to an interactive table.\"\n",
              "              style=\"display:none;\">\n",
              "        \n",
              "  <svg xmlns=\"http://www.w3.org/2000/svg\" height=\"24px\"viewBox=\"0 0 24 24\"\n",
              "       width=\"24px\">\n",
              "    <path d=\"M0 0h24v24H0V0z\" fill=\"none\"/>\n",
              "    <path d=\"M18.56 5.44l.94 2.06.94-2.06 2.06-.94-2.06-.94-.94-2.06-.94 2.06-2.06.94zm-11 1L8.5 8.5l.94-2.06 2.06-.94-2.06-.94L8.5 2.5l-.94 2.06-2.06.94zm10 10l.94 2.06.94-2.06 2.06-.94-2.06-.94-.94-2.06-.94 2.06-2.06.94z\"/><path d=\"M17.41 7.96l-1.37-1.37c-.4-.4-.92-.59-1.43-.59-.52 0-1.04.2-1.43.59L10.3 9.45l-7.72 7.72c-.78.78-.78 2.05 0 2.83L4 21.41c.39.39.9.59 1.41.59.51 0 1.02-.2 1.41-.59l7.78-7.78 2.81-2.81c.8-.78.8-2.07 0-2.86zM5.41 20L4 18.59l7.72-7.72 1.47 1.35L5.41 20z\"/>\n",
              "  </svg>\n",
              "      </button>\n",
              "      \n",
              "  <style>\n",
              "    .colab-df-container {\n",
              "      display:flex;\n",
              "      flex-wrap:wrap;\n",
              "      gap: 12px;\n",
              "    }\n",
              "\n",
              "    .colab-df-convert {\n",
              "      background-color: #E8F0FE;\n",
              "      border: none;\n",
              "      border-radius: 50%;\n",
              "      cursor: pointer;\n",
              "      display: none;\n",
              "      fill: #1967D2;\n",
              "      height: 32px;\n",
              "      padding: 0 0 0 0;\n",
              "      width: 32px;\n",
              "    }\n",
              "\n",
              "    .colab-df-convert:hover {\n",
              "      background-color: #E2EBFA;\n",
              "      box-shadow: 0px 1px 2px rgba(60, 64, 67, 0.3), 0px 1px 3px 1px rgba(60, 64, 67, 0.15);\n",
              "      fill: #174EA6;\n",
              "    }\n",
              "\n",
              "    [theme=dark] .colab-df-convert {\n",
              "      background-color: #3B4455;\n",
              "      fill: #D2E3FC;\n",
              "    }\n",
              "\n",
              "    [theme=dark] .colab-df-convert:hover {\n",
              "      background-color: #434B5C;\n",
              "      box-shadow: 0px 1px 3px 1px rgba(0, 0, 0, 0.15);\n",
              "      filter: drop-shadow(0px 1px 2px rgba(0, 0, 0, 0.3));\n",
              "      fill: #FFFFFF;\n",
              "    }\n",
              "  </style>\n",
              "\n",
              "      <script>\n",
              "        const buttonEl =\n",
              "          document.querySelector('#df-0b88289a-ecd5-49bb-883b-81428f9d0592 button.colab-df-convert');\n",
              "        buttonEl.style.display =\n",
              "          google.colab.kernel.accessAllowed ? 'block' : 'none';\n",
              "\n",
              "        async function convertToInteractive(key) {\n",
              "          const element = document.querySelector('#df-0b88289a-ecd5-49bb-883b-81428f9d0592');\n",
              "          const dataTable =\n",
              "            await google.colab.kernel.invokeFunction('convertToInteractive',\n",
              "                                                     [key], {});\n",
              "          if (!dataTable) return;\n",
              "\n",
              "          const docLinkHtml = 'Like what you see? Visit the ' +\n",
              "            '<a target=\"_blank\" href=https://colab.research.google.com/notebooks/data_table.ipynb>data table notebook</a>'\n",
              "            + ' to learn more about interactive tables.';\n",
              "          element.innerHTML = '';\n",
              "          dataTable['output_type'] = 'display_data';\n",
              "          await google.colab.output.renderOutput(dataTable, element);\n",
              "          const docLink = document.createElement('div');\n",
              "          docLink.innerHTML = docLinkHtml;\n",
              "          element.appendChild(docLink);\n",
              "        }\n",
              "      </script>\n",
              "    </div>\n",
              "  </div>\n",
              "  "
            ]
          },
          "metadata": {},
          "execution_count": 13
        }
      ],
      "source": [
        "test_data.head()"
      ]
    },
    {
      "cell_type": "code",
      "execution_count": null,
      "metadata": {
        "id": "M6KjEX7pjFUs",
        "colab": {
          "base_uri": "https://localhost:8080/"
        },
        "outputId": "ecad3a96-211b-4b21-edb6-cffab5399583"
      },
      "outputs": [
        {
          "output_type": "stream",
          "name": "stderr",
          "text": [
            "[nltk_data] Downloading package omw-1.4 to /root/nltk_data...\n"
          ]
        }
      ],
      "source": [
        "#Cleaning the text\n",
        "import re\n",
        "import nltk\n",
        "from nltk.corpus import stopwords\n",
        "all_stopwords = stopwords.words('english')\n",
        "all_stopwords.remove('not')\n",
        "nltk.download('omw-1.4')\n",
        "\n",
        "def preprocessor(data):\n",
        "    corpus = []\n",
        "    for i in data.index:\n",
        "      #remove urls\n",
        "      tweet1= re.sub(r'http\\S+', ' ', data['OriginalTweet'][i])\n",
        "      #remove html tags\n",
        "      tweet2 = re.sub(r'<.*?>',' ', tweet1) \n",
        "      #remove digits\n",
        "      tweet3 = re.sub(r'\\d+',' ', tweet2)\n",
        "      #remove hashtags\n",
        "      tweet4 = re.sub(r'#\\w+',' ', tweet3)\n",
        "      review = re.sub('[^a-zA-Z]', ' ', tweet4)\n",
        "      review = review.lower()\n",
        "      review = review.split()\n",
        "      wl = WordNetLemmatizer()\n",
        "      review = [wl.lemmatize(word) for word in review if word not in all_stopwords]\n",
        "      review = ' '.join(review)\n",
        "      corpus.append(review)\n",
        "    return corpus"
      ]
    },
    {
      "cell_type": "code",
      "execution_count": null,
      "metadata": {
        "id": "Ci7VgomzkClF"
      },
      "outputs": [],
      "source": [
        "\n",
        "\n",
        "#Transforming the OriginalTweet \n",
        "train_data[\"OriginalTweet\"] = preprocessor(train_data)\n",
        "test_data[\"OriginalTweet\"] = preprocessor(test_data)"
      ]
    },
    {
      "cell_type": "code",
      "source": [
        "test_data[\"OriginalTweet\"]"
      ],
      "metadata": {
        "id": "H9rBbM4h36FD",
        "colab": {
          "base_uri": "https://localhost:8080/"
        },
        "outputId": "174e707a-5152-4511-9273-649e81273c6d"
      },
      "execution_count": null,
      "outputs": [
        {
          "output_type": "execute_result",
          "data": {
            "text/plain": [
              "849     live heavily covid affected area cannot afford...\n",
              "1208    apparently virus cause excessive bowel movemen...\n",
              "3503    work retail part time amount people store week...\n",
              "558     covid school closure univ class shifting onlin...\n",
              "2044    serious note tho hell u guy go work still casu...\n",
              "                              ...                        \n",
              "41      far pennsylvanian reached office report inflat...\n",
              "1081    food left grocery store look pumpkin spice thi...\n",
              "422     drastic effect sick elderly one want visit iso...\n",
              "2870    message emergency stock non perishable food mi...\n",
              "2894    covid update new financial responsibility flex...\n",
              "Name: OriginalTweet, Length: 2000, dtype: object"
            ]
          },
          "metadata": {},
          "execution_count": 16
        }
      ]
    },
    {
      "cell_type": "code",
      "source": [
        "train_data[\"OriginalTweet\"]"
      ],
      "metadata": {
        "id": "DDz4aZxG4AMK",
        "colab": {
          "base_uri": "https://localhost:8080/"
        },
        "outputId": "97912a12-0c21-4619-e8bc-5fd78a5fcea2"
      },
      "execution_count": null,
      "outputs": [
        {
          "output_type": "execute_result",
          "data": {
            "text/plain": [
              "20931    every st responder including delivery people g...\n",
              "34498                                       ever spot scam\n",
              "4717     one four american actively avoiding eating res...\n",
              "12499    bild newspaper post image chancellor shopping ...\n",
              "18112            sent husband grocery store like going war\n",
              "                               ...                        \n",
              "31871    vernonglittle z danieldumbrill tweet stamp lie...\n",
              "18136    talking brother going grocery store temperatur...\n",
              "38473    many favorite independent shop store chicago d...\n",
              "10038    study bcg powered explore consumer shifting sp...\n",
              "18057              enjoying using christmas boris bog roll\n",
              "Name: OriginalTweet, Length: 10000, dtype: object"
            ]
          },
          "metadata": {},
          "execution_count": 17
        }
      ]
    },
    {
      "cell_type": "code",
      "source": [
        "train_data[\"Sentiment\"].value_counts()"
      ],
      "metadata": {
        "id": "oybHInIO4Phb",
        "colab": {
          "base_uri": "https://localhost:8080/"
        },
        "outputId": "aea294ea-c681-43e8-d99f-b0b81da7466f"
      },
      "execution_count": null,
      "outputs": [
        {
          "output_type": "execute_result",
          "data": {
            "text/plain": [
              "Positive              2819\n",
              "Negative              2393\n",
              "Neutral               1880\n",
              "Extremely Positive    1610\n",
              "Extremely Negative    1298\n",
              "Name: Sentiment, dtype: int64"
            ]
          },
          "metadata": {},
          "execution_count": 18
        }
      ]
    },
    {
      "cell_type": "code",
      "source": [
        "train_data[\"Sentiment\"].value_counts().plot(kind=\"pie\")"
      ],
      "metadata": {
        "id": "ZMGqQSXw4ghe",
        "colab": {
          "base_uri": "https://localhost:8080/",
          "height": 265
        },
        "outputId": "ff227b10-5597-4a73-ff6d-39deb0fb1663"
      },
      "execution_count": null,
      "outputs": [
        {
          "output_type": "execute_result",
          "data": {
            "text/plain": [
              "<matplotlib.axes._subplots.AxesSubplot at 0x7fa4327be070>"
            ]
          },
          "metadata": {},
          "execution_count": 19
        },
        {
          "output_type": "display_data",
          "data": {
            "text/plain": [
              "<Figure size 432x288 with 1 Axes>"
            ],
            "image/png": "[encoded data removed]"
          },
          "metadata": {}
        }
      ]
    },
    {
      "cell_type": "code",
      "source": [
        "test_data[\"Sentiment\"].value_counts()"
      ],
      "metadata": {
        "colab": {
          "base_uri": "https://localhost:8080/"
        },
        "id": "a6-gRA6lOVFR",
        "outputId": "f3a7deac-6d1d-4b11-dcdd-ab52eac041a6"
      },
      "execution_count": null,
      "outputs": [
        {
          "output_type": "execute_result",
          "data": {
            "text/plain": [
              "Negative              533\n",
              "Positive              487\n",
              "Neutral               350\n",
              "Extremely Negative    322\n",
              "Extremely Positive    308\n",
              "Name: Sentiment, dtype: int64"
            ]
          },
          "metadata": {},
          "execution_count": 20
        }
      ]
    },
    {
      "cell_type": "code",
      "source": [
        "test_data[\"Sentiment\"].value_counts().plot(kind=\"pie\")"
      ],
      "metadata": {
        "colab": {
          "base_uri": "https://localhost:8080/",
          "height": 265
        },
        "id": "ToBI_yLFOU16",
        "outputId": "b83fc3c5-42c0-4db3-be48-90dd971405ce"
      },
      "execution_count": null,
      "outputs": [
        {
          "output_type": "execute_result",
          "data": {
            "text/plain": [
              "<matplotlib.axes._subplots.AxesSubplot at 0x7fa43276acd0>"
            ]
          },
          "metadata": {},
          "execution_count": 21
        },
        {
          "output_type": "display_data",
          "data": {
            "text/plain": [
              "<Figure size 432x288 with 1 Axes>"
            ],
            "image/png": "[encoded data removed]"
          },
          "metadata": {}
        }
      ]
    },
    {
      "cell_type": "code",
      "source": [
        "from wordcloud import WordCloud\n",
        "wc = WordCloud(width = 800,height = 800,background_color = \"white\",min_font_size = 10)\n",
        "wc.generate(\" \".join(train_data[train_data[\"Sentiment\"]== \"Extremely Positive\"][\"OriginalTweet\"]))\n",
        "plt.imshow(wc)\n",
        "plt.axis(\"off\")\n",
        "plt.show()"
      ],
      "metadata": {
        "id": "nc_9yVDJ42GL",
        "colab": {
          "base_uri": "https://localhost:8080/",
          "height": 248
        },
        "outputId": "ef04e324-e14c-48e4-ab19-3d8e5f5eebd2"
      },
      "execution_count": null,
      "outputs": [
        {
          "output_type": "display_data",
          "data": {
            "text/plain": [
              "<Figure size 432x288 with 1 Axes>"
            ],
            "image/png": "[encoded data removed]"
          },
          "metadata": {
            "needs_background": "light"
          }
        }
      ]
    },
    {
      "cell_type": "code",
      "execution_count": null,
      "metadata": {
        "id": "uezMvWqWk4mh",
        "colab": {
          "base_uri": "https://localhost:8080/",
          "height": 248
        },
        "outputId": "9b062b67-8bba-4557-920a-65fb07e0d4b4"
      },
      "outputs": [
        {
          "output_type": "display_data",
          "data": {
            "text/plain": [
              "<Figure size 432x288 with 1 Axes>"
            ],
            "image/png": "[encoded data removed]"
          },
          "metadata": {
            "needs_background": "light"
          }
        }
      ],
      "source": [
        "from wordcloud import WordCloud\n",
        "wc = WordCloud(width = 800,height = 800,background_color = \"white\",min_font_size = 10)\n",
        "wc.generate(\" \".join(train_data[train_data[\"Sentiment\"]== \"Extremely Negative\"][\"OriginalTweet\"]))\n",
        "plt.imshow(wc)\n",
        "plt.axis(\"off\")\n",
        "plt.show()"
      ]
    },
    {
      "cell_type": "code",
      "source": [
        "from wordcloud import WordCloud\n",
        "wc = WordCloud(width = 800,height = 800,background_color = \"white\",min_font_size = 10)\n",
        "wc.generate(\" \".join(train_data[train_data[\"Sentiment\"]== \"Negative\"][\"OriginalTweet\"]))\n",
        "plt.imshow(wc)\n",
        "plt.axis(\"off\")\n",
        "plt.show()"
      ],
      "metadata": {
        "id": "HJAj3pHAxFxT",
        "colab": {
          "base_uri": "https://localhost:8080/",
          "height": 248
        },
        "outputId": "f4415e44-7656-43e8-9f39-f26197e27482"
      },
      "execution_count": null,
      "outputs": [
        {
          "output_type": "display_data",
          "data": {
            "text/plain": [
              "<Figure size 432x288 with 1 Axes>"
            ],
            "image/png": "[encoded data removed]"
          },
          "metadata": {
            "needs_background": "light"
          }
        }
      ]
    },
    {
      "cell_type": "code",
      "execution_count": null,
      "metadata": {
        "id": "TAqHHasRl6yi",
        "colab": {
          "base_uri": "https://localhost:8080/",
          "height": 248
        },
        "outputId": "73310a29-59b0-419a-89b6-b0a9bf778f85"
      },
      "outputs": [
        {
          "output_type": "display_data",
          "data": {
            "text/plain": [
              "<Figure size 432x288 with 1 Axes>"
            ],
            "image/png": "[encoded data removed]"
          },
          "metadata": {
            "needs_background": "light"
          }
        }
      ],
      "source": [
        "from wordcloud import WordCloud\n",
        "wc = WordCloud(width = 800,height = 800,background_color = \"white\",min_font_size = 10)\n",
        "wc.generate(\" \".join(train_data[train_data[\"Sentiment\"]== \"Negative\"][\"OriginalTweet\"]))\n",
        "plt.imshow(wc)\n",
        "plt.axis(\"off\")\n",
        "plt.show()"
      ]
    },
    {
      "cell_type": "code",
      "source": [
        "from wordcloud import WordCloud\n",
        "wc = WordCloud(width = 800,height = 800,background_color = \"white\",min_font_size = 10)\n",
        "wc.generate(\" \".join(train_data[train_data[\"Sentiment\"]== \"Neutral\"][\"OriginalTweet\"]))\n",
        "plt.imshow(wc)\n",
        "plt.axis(\"off\")\n",
        "plt.show()"
      ],
      "metadata": {
        "id": "E8Y-74Bt6B--",
        "colab": {
          "base_uri": "https://localhost:8080/",
          "height": 248
        },
        "outputId": "86ee234c-72d7-4745-f212-9a3ad92f77af"
      },
      "execution_count": null,
      "outputs": [
        {
          "output_type": "display_data",
          "data": {
            "text/plain": [
              "<Figure size 432x288 with 1 Axes>"
            ],
            "image/png": "[encoded data removed]"
          },
          "metadata": {
            "needs_background": "light"
          }
        }
      ]
    },
    {
      "cell_type": "code",
      "execution_count": null,
      "metadata": {
        "id": "IMOnWI5ul9uA"
      },
      "outputs": [],
      "source": [
        "train_data[\"Sentiment\"] = train_data[\"Sentiment\"].replace({\"Extremely Negative\":0,\"Negative\":0,\"Neutral\":2,\"Positive\":1,\"Extremely Positive\":1})\n",
        "test_data[\"Sentiment\"] = test_data[\"Sentiment\"].replace({\"Extremely Negative\":0,\"Negative\":0,\"Neutral\":2,\"Positive\":1,\"Extremely Positive\":1})\n",
        "from sklearn.feature_extraction.text import CountVectorizer\n",
        "cv = CountVectorizer(max_features=10000) #You will get 31750 columns if you dont specify max_features\n",
        "X_train = cv.fit_transform(train_data[\"OriginalTweet\"]).toarray()\n",
        "y_train = train_data[\"Sentiment\"]\n",
        "X_test = cv.transform(test_data[\"OriginalTweet\"]).toarray()\n",
        "y_test = test_data['Sentiment']"
      ]
    },
    {
      "cell_type": "code",
      "execution_count": null,
      "metadata": {
        "id": "VnxkcdyCmVr6",
        "colab": {
          "base_uri": "https://localhost:8080/"
        },
        "outputId": "cbed5270-5ba3-4d66-8aee-a734fe92f08e"
      },
      "outputs": [
        {
          "output_type": "execute_result",
          "data": {
            "text/plain": [
              "(10000, 10000)"
            ]
          },
          "metadata": {},
          "execution_count": 28
        }
      ],
      "source": [
        "X_train.shape"
      ]
    },
    {
      "cell_type": "code",
      "execution_count": null,
      "metadata": {
        "id": "OxdQtOcWmi_r",
        "colab": {
          "base_uri": "https://localhost:8080/"
        },
        "outputId": "eb72be4f-1c22-43cb-a6fa-f13534dab983"
      },
      "outputs": [
        {
          "output_type": "execute_result",
          "data": {
            "text/plain": [
              "(10000,)"
            ]
          },
          "metadata": {},
          "execution_count": 29
        }
      ],
      "source": [
        "y_train.shape"
      ]
    },
    {
      "cell_type": "code",
      "execution_count": null,
      "metadata": {
        "id": "FQjDxD39mmrL",
        "colab": {
          "base_uri": "https://localhost:8080/"
        },
        "outputId": "7da6a0d5-4b27-49f7-b6ff-464c220fa67c"
      },
      "outputs": [
        {
          "output_type": "execute_result",
          "data": {
            "text/plain": [
              "(2000, 10000)"
            ]
          },
          "metadata": {},
          "execution_count": 30
        }
      ],
      "source": [
        "X_test.shape"
      ]
    },
    {
      "cell_type": "code",
      "execution_count": null,
      "metadata": {
        "id": "kNiDZWVYmu_w",
        "colab": {
          "base_uri": "https://localhost:8080/"
        },
        "outputId": "e628dc78-0e6c-4bd1-f2ee-f30ea4efe65f"
      },
      "outputs": [
        {
          "output_type": "execute_result",
          "data": {
            "text/plain": [
              "(2000,)"
            ]
          },
          "metadata": {},
          "execution_count": 31
        }
      ],
      "source": [
        "\n",
        "y_test.shape"
      ]
    },
    {
      "cell_type": "code",
      "execution_count": null,
      "metadata": {
        "id": "XVisxOAqm1HT"
      },
      "outputs": [],
      "source": [
        "from sklearn.ensemble import RandomForestClassifier,AdaBoostClassifier\n",
        "from sklearn.svm import SVC\n",
        "from xgboost import XGBRFClassifier\n",
        "from sklearn.linear_model import LogisticRegression\n",
        "from sklearn.metrics import classification_report,confusion_matrix,accuracy_score"
      ]
    },
    {
      "cell_type": "code",
      "execution_count": null,
      "metadata": {
        "id": "SJH4AcsynuIU"
      },
      "outputs": [],
      "source": [
        "def models(model):\n",
        "    model.fit(X_train,y_train)\n",
        "    pred = model.predict(X_test)\n",
        "    \n",
        "    train = model.score(X_train,y_train)\n",
        "    test = model.score(X_test,y_test)\n",
        "    print(f\"train : {train}\\ntest : {test}\\nclassification_report :\\n{classification_report(y_test,pred)}\\n Accuracy_Score :\\n{accuracy_score(y_test,pred)}\")"
      ]
    },
    {
      "cell_type": "code",
      "execution_count": null,
      "metadata": {
        "id": "gPhBNOjWn7QU",
        "colab": {
          "base_uri": "https://localhost:8080/"
        },
        "outputId": "3dd8f771-cfa2-426f-8219-b5d9ffeaa9e8"
      },
      "outputs": [
        {
          "output_type": "stream",
          "name": "stdout",
          "text": [
            "train : 1.0\n",
            "test : 0.701\n",
            "classification_report :\n",
            "              precision    recall  f1-score   support\n",
            "\n",
            "           0       0.74      0.69      0.71       855\n",
            "           1       0.71      0.75      0.73       795\n",
            "           2       0.60      0.61      0.60       350\n",
            "\n",
            "    accuracy                           0.70      2000\n",
            "   macro avg       0.68      0.68      0.68      2000\n",
            "weighted avg       0.70      0.70      0.70      2000\n",
            "\n",
            " Accuracy_Score :\n",
            "0.701\n"
          ]
        }
      ],
      "source": [
        "models(RandomForestClassifier())"
      ]
    },
    {
      "cell_type": "code",
      "execution_count": null,
      "metadata": {
        "id": "Fgl7IxB6oY41",
        "colab": {
          "base_uri": "https://localhost:8080/"
        },
        "outputId": "1a0045fb-2862-4ac3-c21a-d3a30aacec73"
      },
      "outputs": [
        {
          "output_type": "stream",
          "name": "stdout",
          "text": [
            "train : 0.9436\n",
            "test : 0.6975\n",
            "classification_report :\n",
            "              precision    recall  f1-score   support\n",
            "\n",
            "           0       0.78      0.66      0.71       855\n",
            "           1       0.68      0.78      0.73       795\n",
            "           2       0.57      0.60      0.59       350\n",
            "\n",
            "    accuracy                           0.70      2000\n",
            "   macro avg       0.68      0.68      0.68      2000\n",
            "weighted avg       0.70      0.70      0.70      2000\n",
            "\n",
            " Accuracy_Score :\n",
            "0.6975\n"
          ]
        }
      ],
      "source": [
        "models(SVC())"
      ]
    },
    {
      "cell_type": "code",
      "execution_count": null,
      "metadata": {
        "id": "eSbDxxHuqMq8",
        "colab": {
          "base_uri": "https://localhost:8080/"
        },
        "outputId": "0afa5bdc-7569-4477-c467-79b2531b00d4"
      },
      "outputs": [
        {
          "output_type": "stream",
          "name": "stdout",
          "text": [
            "train : 0.6196\n",
            "test : 0.5975\n",
            "classification_report :\n",
            "              precision    recall  f1-score   support\n",
            "\n",
            "           0       0.75      0.55      0.63       855\n",
            "           1       0.76      0.56      0.64       795\n",
            "           2       0.36      0.81      0.50       350\n",
            "\n",
            "    accuracy                           0.60      2000\n",
            "   macro avg       0.62      0.64      0.59      2000\n",
            "weighted avg       0.69      0.60      0.61      2000\n",
            "\n",
            " Accuracy_Score :\n",
            "0.5975\n"
          ]
        }
      ],
      "source": [
        "models(AdaBoostClassifier())"
      ]
    },
    {
      "cell_type": "code",
      "source": [
        "from sklearn.naive_bayes import MultinomialNB\n",
        "models(MultinomialNB())"
      ],
      "metadata": {
        "id": "eqIx4el1zKmp",
        "colab": {
          "base_uri": "https://localhost:8080/"
        },
        "outputId": "bb6f2b2c-8306-4b06-f59d-6cb1265276e8"
      },
      "execution_count": null,
      "outputs": [
        {
          "output_type": "stream",
          "name": "stdout",
          "text": [
            "train : 0.8293\n",
            "test : 0.652\n",
            "classification_report :\n",
            "              precision    recall  f1-score   support\n",
            "\n",
            "           0       0.69      0.74      0.71       855\n",
            "           1       0.62      0.77      0.69       795\n",
            "           2       0.58      0.17      0.27       350\n",
            "\n",
            "    accuracy                           0.65      2000\n",
            "   macro avg       0.63      0.56      0.56      2000\n",
            "weighted avg       0.64      0.65      0.63      2000\n",
            "\n",
            " Accuracy_Score :\n",
            "0.652\n"
          ]
        }
      ]
    },
    {
      "cell_type": "code",
      "source": [
        "from sklearn.linear_model import LogisticRegression"
      ],
      "metadata": {
        "id": "E8kCspnzX4ba"
      },
      "execution_count": null,
      "outputs": []
    },
    {
      "cell_type": "code",
      "source": [
        "models(LogisticRegression())"
      ],
      "metadata": {
        "colab": {
          "base_uri": "https://localhost:8080/"
        },
        "id": "XlBKpERAZRmx",
        "outputId": "6452fe48-510d-4a8a-8796-855ca934235e"
      },
      "execution_count": null,
      "outputs": [
        {
          "output_type": "stream",
          "name": "stdout",
          "text": [
            "train : 0.98\n",
            "test : 0.7545\n",
            "classification_report :\n",
            "              precision    recall  f1-score   support\n",
            "\n",
            "           0       0.81      0.75      0.78       855\n",
            "           1       0.76      0.80      0.78       795\n",
            "           2       0.62      0.65      0.64       350\n",
            "\n",
            "    accuracy                           0.75      2000\n",
            "   macro avg       0.73      0.74      0.73      2000\n",
            "weighted avg       0.76      0.75      0.76      2000\n",
            "\n",
            " Accuracy_Score :\n",
            "0.7545\n"
          ]
        }
      ]
    },
    {
      "cell_type": "code",
      "source": [
        "sentlen = []\n",
        "for sent in train_data[\"OriginalTweet\"]:\n",
        "  sentlen.append(len(word_tokenize(sent)))  # we are using the word tokenize to split the sentences in words \n",
        "\n",
        "train_data[\"SentLen\"] = sentlen \n",
        "train_data.head()"
      ],
      "metadata": {
        "id": "03Z40fHsZUhB",
        "colab": {
          "base_uri": "https://localhost:8080/",
          "height": 206
        },
        "outputId": "d45a1c50-fb1e-4031-fc83-2fd88af0e75d"
      },
      "execution_count": null,
      "outputs": [
        {
          "output_type": "execute_result",
          "data": {
            "text/plain": [
              "                                           OriginalTweet  Sentiment  SentLen\n",
              "20931  every st responder including delivery people g...          1       22\n",
              "34498                                     ever spot scam          0        3\n",
              "4717   one four american actively avoiding eating res...          0       13\n",
              "12499  bild newspaper post image chancellor shopping ...          2        8\n",
              "18112          sent husband grocery store like going war          0        7"
            ],
            "text/html": [
              "\n",
              "  <div id=\"df-441a753e-ca91-45e3-b20f-9e29057af505\">\n",
              "    <div class=\"colab-df-container\">\n",
              "      <div>\n",
              "<style scoped>\n",
              "    .dataframe tbody tr th:only-of-type {\n",
              "        vertical-align: middle;\n",
              "    }\n",
              "\n",
              "    .dataframe tbody tr th {\n",
              "        vertical-align: top;\n",
              "    }\n",
              "\n",
              "    .dataframe thead th {\n",
              "        text-align: right;\n",
              "    }\n",
              "</style>\n",
              "<table border=\"1\" class=\"dataframe\">\n",
              "  <thead>\n",
              "    <tr style=\"text-align: right;\">\n",
              "      <th></th>\n",
              "      <th>OriginalTweet</th>\n",
              "      <th>Sentiment</th>\n",
              "      <th>SentLen</th>\n",
              "    </tr>\n",
              "  </thead>\n",
              "  <tbody>\n",
              "    <tr>\n",
              "      <th>20931</th>\n",
              "      <td>every st responder including delivery people g...</td>\n",
              "      <td>1</td>\n",
              "      <td>22</td>\n",
              "    </tr>\n",
              "    <tr>\n",
              "      <th>34498</th>\n",
              "      <td>ever spot scam</td>\n",
              "      <td>0</td>\n",
              "      <td>3</td>\n",
              "    </tr>\n",
              "    <tr>\n",
              "      <th>4717</th>\n",
              "      <td>one four american actively avoiding eating res...</td>\n",
              "      <td>0</td>\n",
              "      <td>13</td>\n",
              "    </tr>\n",
              "    <tr>\n",
              "      <th>12499</th>\n",
              "      <td>bild newspaper post image chancellor shopping ...</td>\n",
              "      <td>2</td>\n",
              "      <td>8</td>\n",
              "    </tr>\n",
              "    <tr>\n",
              "      <th>18112</th>\n",
              "      <td>sent husband grocery store like going war</td>\n",
              "      <td>0</td>\n",
              "      <td>7</td>\n",
              "    </tr>\n",
              "  </tbody>\n",
              "</table>\n",
              "</div>\n",
              "      <button class=\"colab-df-convert\" onclick=\"convertToInteractive('df-441a753e-ca91-45e3-b20f-9e29057af505')\"\n",
              "              title=\"Convert this dataframe to an interactive table.\"\n",
              "              style=\"display:none;\">\n",
              "        \n",
              "  <svg xmlns=\"http://www.w3.org/2000/svg\" height=\"24px\"viewBox=\"0 0 24 24\"\n",
              "       width=\"24px\">\n",
              "    <path d=\"M0 0h24v24H0V0z\" fill=\"none\"/>\n",
              "    <path d=\"M18.56 5.44l.94 2.06.94-2.06 2.06-.94-2.06-.94-.94-2.06-.94 2.06-2.06.94zm-11 1L8.5 8.5l.94-2.06 2.06-.94-2.06-.94L8.5 2.5l-.94 2.06-2.06.94zm10 10l.94 2.06.94-2.06 2.06-.94-2.06-.94-.94-2.06-.94 2.06-2.06.94z\"/><path d=\"M17.41 7.96l-1.37-1.37c-.4-.4-.92-.59-1.43-.59-.52 0-1.04.2-1.43.59L10.3 9.45l-7.72 7.72c-.78.78-.78 2.05 0 2.83L4 21.41c.39.39.9.59 1.41.59.51 0 1.02-.2 1.41-.59l7.78-7.78 2.81-2.81c.8-.78.8-2.07 0-2.86zM5.41 20L4 18.59l7.72-7.72 1.47 1.35L5.41 20z\"/>\n",
              "  </svg>\n",
              "      </button>\n",
              "      \n",
              "  <style>\n",
              "    .colab-df-container {\n",
              "      display:flex;\n",
              "      flex-wrap:wrap;\n",
              "      gap: 12px;\n",
              "    }\n",
              "\n",
              "    .colab-df-convert {\n",
              "      background-color: #E8F0FE;\n",
              "      border: none;\n",
              "      border-radius: 50%;\n",
              "      cursor: pointer;\n",
              "      display: none;\n",
              "      fill: #1967D2;\n",
              "      height: 32px;\n",
              "      padding: 0 0 0 0;\n",
              "      width: 32px;\n",
              "    }\n",
              "\n",
              "    .colab-df-convert:hover {\n",
              "      background-color: #E2EBFA;\n",
              "      box-shadow: 0px 1px 2px rgba(60, 64, 67, 0.3), 0px 1px 3px 1px rgba(60, 64, 67, 0.15);\n",
              "      fill: #174EA6;\n",
              "    }\n",
              "\n",
              "    [theme=dark] .colab-df-convert {\n",
              "      background-color: #3B4455;\n",
              "      fill: #D2E3FC;\n",
              "    }\n",
              "\n",
              "    [theme=dark] .colab-df-convert:hover {\n",
              "      background-color: #434B5C;\n",
              "      box-shadow: 0px 1px 3px 1px rgba(0, 0, 0, 0.15);\n",
              "      filter: drop-shadow(0px 1px 2px rgba(0, 0, 0, 0.3));\n",
              "      fill: #FFFFFF;\n",
              "    }\n",
              "  </style>\n",
              "\n",
              "      <script>\n",
              "        const buttonEl =\n",
              "          document.querySelector('#df-441a753e-ca91-45e3-b20f-9e29057af505 button.colab-df-convert');\n",
              "        buttonEl.style.display =\n",
              "          google.colab.kernel.accessAllowed ? 'block' : 'none';\n",
              "\n",
              "        async function convertToInteractive(key) {\n",
              "          const element = document.querySelector('#df-441a753e-ca91-45e3-b20f-9e29057af505');\n",
              "          const dataTable =\n",
              "            await google.colab.kernel.invokeFunction('convertToInteractive',\n",
              "                                                     [key], {});\n",
              "          if (!dataTable) return;\n",
              "\n",
              "          const docLinkHtml = 'Like what you see? Visit the ' +\n",
              "            '<a target=\"_blank\" href=https://colab.research.google.com/notebooks/data_table.ipynb>data table notebook</a>'\n",
              "            + ' to learn more about interactive tables.';\n",
              "          element.innerHTML = '';\n",
              "          dataTable['output_type'] = 'display_data';\n",
              "          await google.colab.output.renderOutput(dataTable, element);\n",
              "          const docLink = document.createElement('div');\n",
              "          docLink.innerHTML = docLinkHtml;\n",
              "          element.appendChild(docLink);\n",
              "        }\n",
              "      </script>\n",
              "    </div>\n",
              "  </div>\n",
              "  "
            ]
          },
          "metadata": {},
          "execution_count": 40
        }
      ]
    },
    {
      "cell_type": "code",
      "source": [
        "sentlen = []\n",
        "for sent in test_data[\"OriginalTweet\"]:\n",
        "  sentlen.append(len(word_tokenize(sent)))  # we are using the word tokenize to split the sentences in words \n",
        "\n",
        "test_data[\"SentLen\"] = sentlen \n",
        "test_data.head()"
      ],
      "metadata": {
        "colab": {
          "base_uri": "https://localhost:8080/",
          "height": 206
        },
        "id": "7DlBP9IBRpHX",
        "outputId": "ea05ac95-5204-4a38-efe4-1e0aacd4709a"
      },
      "execution_count": null,
      "outputs": [
        {
          "output_type": "execute_result",
          "data": {
            "text/plain": [
              "                                          OriginalTweet  Sentiment  SentLen\n",
              "849   live heavily covid affected area cannot afford...          0       27\n",
              "1208  apparently virus cause excessive bowel movemen...          0       27\n",
              "3503  work retail part time amount people store week...          0       15\n",
              "558   covid school closure univ class shifting onlin...          0       27\n",
              "2044  serious note tho hell u guy go work still casu...          0       25"
            ],
            "text/html": [
              "\n",
              "  <div id=\"df-9345d0bf-d5dc-4f7c-bfda-1d349ab5298d\">\n",
              "    <div class=\"colab-df-container\">\n",
              "      <div>\n",
              "<style scoped>\n",
              "    .dataframe tbody tr th:only-of-type {\n",
              "        vertical-align: middle;\n",
              "    }\n",
              "\n",
              "    .dataframe tbody tr th {\n",
              "        vertical-align: top;\n",
              "    }\n",
              "\n",
              "    .dataframe thead th {\n",
              "        text-align: right;\n",
              "    }\n",
              "</style>\n",
              "<table border=\"1\" class=\"dataframe\">\n",
              "  <thead>\n",
              "    <tr style=\"text-align: right;\">\n",
              "      <th></th>\n",
              "      <th>OriginalTweet</th>\n",
              "      <th>Sentiment</th>\n",
              "      <th>SentLen</th>\n",
              "    </tr>\n",
              "  </thead>\n",
              "  <tbody>\n",
              "    <tr>\n",
              "      <th>849</th>\n",
              "      <td>live heavily covid affected area cannot afford...</td>\n",
              "      <td>0</td>\n",
              "      <td>27</td>\n",
              "    </tr>\n",
              "    <tr>\n",
              "      <th>1208</th>\n",
              "      <td>apparently virus cause excessive bowel movemen...</td>\n",
              "      <td>0</td>\n",
              "      <td>27</td>\n",
              "    </tr>\n",
              "    <tr>\n",
              "      <th>3503</th>\n",
              "      <td>work retail part time amount people store week...</td>\n",
              "      <td>0</td>\n",
              "      <td>15</td>\n",
              "    </tr>\n",
              "    <tr>\n",
              "      <th>558</th>\n",
              "      <td>covid school closure univ class shifting onlin...</td>\n",
              "      <td>0</td>\n",
              "      <td>27</td>\n",
              "    </tr>\n",
              "    <tr>\n",
              "      <th>2044</th>\n",
              "      <td>serious note tho hell u guy go work still casu...</td>\n",
              "      <td>0</td>\n",
              "      <td>25</td>\n",
              "    </tr>\n",
              "  </tbody>\n",
              "</table>\n",
              "</div>\n",
              "      <button class=\"colab-df-convert\" onclick=\"convertToInteractive('df-9345d0bf-d5dc-4f7c-bfda-1d349ab5298d')\"\n",
              "              title=\"Convert this dataframe to an interactive table.\"\n",
              "              style=\"display:none;\">\n",
              "        \n",
              "  <svg xmlns=\"http://www.w3.org/2000/svg\" height=\"24px\"viewBox=\"0 0 24 24\"\n",
              "       width=\"24px\">\n",
              "    <path d=\"M0 0h24v24H0V0z\" fill=\"none\"/>\n",
              "    <path d=\"M18.56 5.44l.94 2.06.94-2.06 2.06-.94-2.06-.94-.94-2.06-.94 2.06-2.06.94zm-11 1L8.5 8.5l.94-2.06 2.06-.94-2.06-.94L8.5 2.5l-.94 2.06-2.06.94zm10 10l.94 2.06.94-2.06 2.06-.94-2.06-.94-.94-2.06-.94 2.06-2.06.94z\"/><path d=\"M17.41 7.96l-1.37-1.37c-.4-.4-.92-.59-1.43-.59-.52 0-1.04.2-1.43.59L10.3 9.45l-7.72 7.72c-.78.78-.78 2.05 0 2.83L4 21.41c.39.39.9.59 1.41.59.51 0 1.02-.2 1.41-.59l7.78-7.78 2.81-2.81c.8-.78.8-2.07 0-2.86zM5.41 20L4 18.59l7.72-7.72 1.47 1.35L5.41 20z\"/>\n",
              "  </svg>\n",
              "      </button>\n",
              "      \n",
              "  <style>\n",
              "    .colab-df-container {\n",
              "      display:flex;\n",
              "      flex-wrap:wrap;\n",
              "      gap: 12px;\n",
              "    }\n",
              "\n",
              "    .colab-df-convert {\n",
              "      background-color: #E8F0FE;\n",
              "      border: none;\n",
              "      border-radius: 50%;\n",
              "      cursor: pointer;\n",
              "      display: none;\n",
              "      fill: #1967D2;\n",
              "      height: 32px;\n",
              "      padding: 0 0 0 0;\n",
              "      width: 32px;\n",
              "    }\n",
              "\n",
              "    .colab-df-convert:hover {\n",
              "      background-color: #E2EBFA;\n",
              "      box-shadow: 0px 1px 2px rgba(60, 64, 67, 0.3), 0px 1px 3px 1px rgba(60, 64, 67, 0.15);\n",
              "      fill: #174EA6;\n",
              "    }\n",
              "\n",
              "    [theme=dark] .colab-df-convert {\n",
              "      background-color: #3B4455;\n",
              "      fill: #D2E3FC;\n",
              "    }\n",
              "\n",
              "    [theme=dark] .colab-df-convert:hover {\n",
              "      background-color: #434B5C;\n",
              "      box-shadow: 0px 1px 3px 1px rgba(0, 0, 0, 0.15);\n",
              "      filter: drop-shadow(0px 1px 2px rgba(0, 0, 0, 0.3));\n",
              "      fill: #FFFFFF;\n",
              "    }\n",
              "  </style>\n",
              "\n",
              "      <script>\n",
              "        const buttonEl =\n",
              "          document.querySelector('#df-9345d0bf-d5dc-4f7c-bfda-1d349ab5298d button.colab-df-convert');\n",
              "        buttonEl.style.display =\n",
              "          google.colab.kernel.accessAllowed ? 'block' : 'none';\n",
              "\n",
              "        async function convertToInteractive(key) {\n",
              "          const element = document.querySelector('#df-9345d0bf-d5dc-4f7c-bfda-1d349ab5298d');\n",
              "          const dataTable =\n",
              "            await google.colab.kernel.invokeFunction('convertToInteractive',\n",
              "                                                     [key], {});\n",
              "          if (!dataTable) return;\n",
              "\n",
              "          const docLinkHtml = 'Like what you see? Visit the ' +\n",
              "            '<a target=\"_blank\" href=https://colab.research.google.com/notebooks/data_table.ipynb>data table notebook</a>'\n",
              "            + ' to learn more about interactive tables.';\n",
              "          element.innerHTML = '';\n",
              "          dataTable['output_type'] = 'display_data';\n",
              "          await google.colab.output.renderOutput(dataTable, element);\n",
              "          const docLink = document.createElement('div');\n",
              "          docLink.innerHTML = docLinkHtml;\n",
              "          element.appendChild(docLink);\n",
              "        }\n",
              "      </script>\n",
              "    </div>\n",
              "  </div>\n",
              "  "
            ]
          },
          "metadata": {},
          "execution_count": 41
        }
      ]
    },
    {
      "cell_type": "code",
      "source": [
        "max_len = np.quantile(sentlen, 0.95)"
      ],
      "metadata": {
        "id": "k8-kT68RRwNW"
      },
      "execution_count": null,
      "outputs": []
    },
    {
      "cell_type": "code",
      "source": [
        "max_len"
      ],
      "metadata": {
        "colab": {
          "base_uri": "https://localhost:8080/"
        },
        "id": "yLz_K_XESAam",
        "outputId": "6c1867c1-dee6-4734-ba66-873e69ec9601"
      },
      "execution_count": null,
      "outputs": [
        {
          "output_type": "execute_result",
          "data": {
            "text/plain": [
              "27.0"
            ]
          },
          "metadata": {},
          "execution_count": 43
        }
      ]
    },
    {
      "cell_type": "code",
      "source": [
        "tok = Tokenizer(char_level=False, split=\" \")\n",
        "tok.fit_on_texts(train_data[\"OriginalTweet\"])\n",
        "tok.index_word"
      ],
      "metadata": {
        "colab": {
          "base_uri": "https://localhost:8080/"
        },
        "id": "lacVF_rXSC5Y",
        "outputId": "40bb17c0-6424-4cd3-d2a2-493578424454"
      },
      "execution_count": null,
      "outputs": [
        {
          "output_type": "execute_result",
          "data": {
            "text/plain": [
              "{1: 'covid',\n",
              " 2: 'price',\n",
              " 3: 'store',\n",
              " 4: 'supermarket',\n",
              " 5: 'food',\n",
              " 6: 'grocery',\n",
              " 7: 'people',\n",
              " 8: 'amp',\n",
              " 9: 'consumer',\n",
              " 10: 'not',\n",
              " 11: 'shopping',\n",
              " 12: 'online',\n",
              " 13: 'time',\n",
              " 14: 'need',\n",
              " 15: 'u',\n",
              " 16: 'get',\n",
              " 17: 'worker',\n",
              " 18: 'pandemic',\n",
              " 19: 'hand',\n",
              " 20: 'panic',\n",
              " 21: 'go',\n",
              " 22: 'like',\n",
              " 23: 'demand',\n",
              " 24: 'home',\n",
              " 25: 'help',\n",
              " 26: 'sanitizer',\n",
              " 27: 'coronavirus',\n",
              " 28: 'day',\n",
              " 29: 'stock',\n",
              " 30: 'one',\n",
              " 31: 'going',\n",
              " 32: 'supply',\n",
              " 33: 'week',\n",
              " 34: 'work',\n",
              " 35: 'buying',\n",
              " 36: 'new',\n",
              " 37: 'crisis',\n",
              " 38: 'mask',\n",
              " 39: 'please',\n",
              " 40: 'due',\n",
              " 41: 'toilet',\n",
              " 42: 'paper',\n",
              " 43: 'local',\n",
              " 44: 'shelf',\n",
              " 45: 'keep',\n",
              " 46: 'good',\n",
              " 47: 'delivery',\n",
              " 48: 'oil',\n",
              " 49: 'make',\n",
              " 50: 'essential',\n",
              " 51: 'business',\n",
              " 52: 'today',\n",
              " 53: 'buy',\n",
              " 54: 'via',\n",
              " 55: 'stay',\n",
              " 56: 'many',\n",
              " 57: 'take',\n",
              " 58: 'shop',\n",
              " 59: 'still',\n",
              " 60: 'say',\n",
              " 61: 'see',\n",
              " 62: 'market',\n",
              " 63: 'know',\n",
              " 64: 'employee',\n",
              " 65: 'outbreak',\n",
              " 66: 'social',\n",
              " 67: 'would',\n",
              " 68: 'way',\n",
              " 69: 'virus',\n",
              " 70: 'stop',\n",
              " 71: 'thing',\n",
              " 72: 'staff',\n",
              " 73: 'everyone',\n",
              " 74: 'service',\n",
              " 75: 'customer',\n",
              " 76: 'even',\n",
              " 77: 'amid',\n",
              " 78: 'uk',\n",
              " 79: 'spread',\n",
              " 80: 'working',\n",
              " 81: 'company',\n",
              " 82: 'product',\n",
              " 83: 'impact',\n",
              " 84: 'retail',\n",
              " 85: 'could',\n",
              " 86: 'item',\n",
              " 87: 'use',\n",
              " 88: 'world',\n",
              " 89: 'health',\n",
              " 90: 'right',\n",
              " 91: 'also',\n",
              " 92: 'think',\n",
              " 93: 'hour',\n",
              " 94: 'back',\n",
              " 95: 'news',\n",
              " 96: 'thank',\n",
              " 97: 'much',\n",
              " 98: 'lockdown',\n",
              " 99: 'family',\n",
              " 100: 'may',\n",
              " 101: 'low',\n",
              " 102: 'chain',\n",
              " 103: 'want',\n",
              " 104: 'country',\n",
              " 105: 'government',\n",
              " 106: 'first',\n",
              " 107: 'life',\n",
              " 108: 'bank',\n",
              " 109: 'last',\n",
              " 110: 'every',\n",
              " 111: 'look',\n",
              " 112: 'report',\n",
              " 113: 'face',\n",
              " 114: 'year',\n",
              " 115: 'line',\n",
              " 116: 'find',\n",
              " 117: 'order',\n",
              " 118: 'safe',\n",
              " 119: 'well',\n",
              " 120: 'global',\n",
              " 121: 'distancing',\n",
              " 122: 'around',\n",
              " 123: 'read',\n",
              " 124: 'next',\n",
              " 125: 'free',\n",
              " 126: 'high',\n",
              " 127: 'risk',\n",
              " 128: 'two',\n",
              " 129: 'got',\n",
              " 130: 'job',\n",
              " 131: 'empty',\n",
              " 132: 'public',\n",
              " 133: 'support',\n",
              " 134: 'come',\n",
              " 135: 'case',\n",
              " 136: 'change',\n",
              " 137: 'long',\n",
              " 138: 'let',\n",
              " 139: 'industry',\n",
              " 140: 'full',\n",
              " 141: 'state',\n",
              " 142: 'others',\n",
              " 143: 'open',\n",
              " 144: 'lot',\n",
              " 145: 'put',\n",
              " 146: 'getting',\n",
              " 147: 'gas',\n",
              " 148: 'really',\n",
              " 149: 'place',\n",
              " 150: 'care',\n",
              " 151: 'community',\n",
              " 152: 'glove',\n",
              " 153: 'said',\n",
              " 154: 'response',\n",
              " 155: 'across',\n",
              " 156: 'increase',\n",
              " 157: 'shortage',\n",
              " 158: 'roll',\n",
              " 159: 'close',\n",
              " 160: 'increased',\n",
              " 161: 'month',\n",
              " 162: 'making',\n",
              " 163: 'available',\n",
              " 164: 'money',\n",
              " 165: 'check',\n",
              " 166: 'went',\n",
              " 167: 'anyone',\n",
              " 168: 'share',\n",
              " 169: 'etc',\n",
              " 170: 'enough',\n",
              " 171: 'house',\n",
              " 172: 'since',\n",
              " 173: 'restaurant',\n",
              " 174: 'great',\n",
              " 175: 'sale',\n",
              " 176: 'fight',\n",
              " 177: 'trying',\n",
              " 178: 'march',\n",
              " 179: 'behavior',\n",
              " 180: 'economy',\n",
              " 181: 'everything',\n",
              " 182: 'call',\n",
              " 183: 'shopper',\n",
              " 184: 'driver',\n",
              " 185: 'must',\n",
              " 186: 'give',\n",
              " 187: 'emergency',\n",
              " 188: 'pay',\n",
              " 189: 'made',\n",
              " 190: 'taking',\n",
              " 191: 'post',\n",
              " 192: 'hope',\n",
              " 193: 'water',\n",
              " 194: 'american',\n",
              " 195: 'better',\n",
              " 196: 'already',\n",
              " 197: 'thanks',\n",
              " 198: 'self',\n",
              " 199: 'sure',\n",
              " 200: 'hospital',\n",
              " 201: 'hit',\n",
              " 202: 'hard',\n",
              " 203: 'vulnerable',\n",
              " 204: 'cut',\n",
              " 205: 'protect',\n",
              " 206: 'medical',\n",
              " 207: 'latest',\n",
              " 208: 'another',\n",
              " 209: 'small',\n",
              " 210: 'run',\n",
              " 211: 'best',\n",
              " 212: 'per',\n",
              " 213: 'part',\n",
              " 214: 'looking',\n",
              " 215: 'update',\n",
              " 216: 'trump',\n",
              " 217: 'person',\n",
              " 218: 'continue',\n",
              " 219: 'elderly',\n",
              " 220: 'morning',\n",
              " 221: 'friend',\n",
              " 222: 'mean',\n",
              " 223: 'closed',\n",
              " 224: 'retailer',\n",
              " 225: 'scam',\n",
              " 226: 'test',\n",
              " 227: 'using',\n",
              " 228: 'never',\n",
              " 229: 'seen',\n",
              " 230: 'china',\n",
              " 231: 'without',\n",
              " 232: 'thought',\n",
              " 233: 'someone',\n",
              " 234: 'able',\n",
              " 235: 'big',\n",
              " 236: 'india',\n",
              " 237: 'normal',\n",
              " 238: 'pharmacy',\n",
              " 239: 'live',\n",
              " 240: 'positive',\n",
              " 241: 'least',\n",
              " 242: 'gt',\n",
              " 243: 'fear',\n",
              " 244: 'real',\n",
              " 245: 'away',\n",
              " 246: 'learn',\n",
              " 247: 'protection',\n",
              " 248: 'nurse',\n",
              " 249: 'hoarding',\n",
              " 250: 'show',\n",
              " 251: 'meet',\n",
              " 252: 'data',\n",
              " 253: 'situation',\n",
              " 254: 'amazon',\n",
              " 255: 'front',\n",
              " 256: 'corona',\n",
              " 257: 'economic',\n",
              " 258: 'wash',\n",
              " 259: 'doctor',\n",
              " 260: 'area',\n",
              " 261: 'milk',\n",
              " 262: 'end',\n",
              " 263: 'start',\n",
              " 264: 'else',\n",
              " 265: 'tip',\n",
              " 266: 'pm',\n",
              " 267: 'leave',\n",
              " 268: 'important',\n",
              " 269: 'soap',\n",
              " 270: 'production',\n",
              " 271: 'city',\n",
              " 272: 'feel',\n",
              " 273: 'coming',\n",
              " 274: 'plan',\n",
              " 275: 'drop',\n",
              " 276: 'medium',\n",
              " 277: 'outside',\n",
              " 278: 'used',\n",
              " 279: 'quarantine',\n",
              " 280: 'measure',\n",
              " 281: 'spending',\n",
              " 282: 'rise',\n",
              " 283: 'remember',\n",
              " 284: 'list',\n",
              " 285: 'visit',\n",
              " 286: 'daily',\n",
              " 287: 'brand',\n",
              " 288: 'issue',\n",
              " 289: 'nh',\n",
              " 290: 'left',\n",
              " 291: 'information',\n",
              " 292: 'current',\n",
              " 293: 'done',\n",
              " 294: 'fall',\n",
              " 295: 'selling',\n",
              " 296: 'result',\n",
              " 297: 'related',\n",
              " 298: 'queue',\n",
              " 299: 'r',\n",
              " 300: 'helping',\n",
              " 301: 'nothing',\n",
              " 302: 'cost',\n",
              " 303: 'told',\n",
              " 304: 'might',\n",
              " 305: 'sick',\n",
              " 306: 'including',\n",
              " 307: 'likely',\n",
              " 308: 'car',\n",
              " 309: 'le',\n",
              " 310: 'number',\n",
              " 311: 'n',\n",
              " 312: 'e',\n",
              " 313: 'man',\n",
              " 314: 'expert',\n",
              " 315: 'police',\n",
              " 316: 'access',\n",
              " 317: 'key',\n",
              " 318: 'alcohol',\n",
              " 319: 'limit',\n",
              " 320: 'avoid',\n",
              " 321: 'trip',\n",
              " 322: 'affected',\n",
              " 323: 'contact',\n",
              " 324: 'question',\n",
              " 325: 'try',\n",
              " 326: 'wearing',\n",
              " 327: 'financial',\n",
              " 328: 'million',\n",
              " 329: 'tesco',\n",
              " 330: 'ever',\n",
              " 331: 'b',\n",
              " 332: 'w',\n",
              " 333: 'instead',\n",
              " 334: 'higher',\n",
              " 335: 'deal',\n",
              " 336: 'story',\n",
              " 337: 'guy',\n",
              " 338: 'little',\n",
              " 339: 'always',\n",
              " 340: 'together',\n",
              " 341: 'lower',\n",
              " 342: 'farmer',\n",
              " 343: 'bought',\n",
              " 344: 'april',\n",
              " 345: 'video',\n",
              " 346: 'member',\n",
              " 347: 'death',\n",
              " 348: 'set',\n",
              " 349: 'system',\n",
              " 350: 'travel',\n",
              " 351: 'isolation',\n",
              " 352: 'cause',\n",
              " 353: 'offer',\n",
              " 354: 'safety',\n",
              " 355: 'especially',\n",
              " 356: 'wipe',\n",
              " 357: 'distance',\n",
              " 358: 'anything',\n",
              " 359: 'something',\n",
              " 360: 'non',\n",
              " 361: 'level',\n",
              " 362: 'group',\n",
              " 363: 'woman',\n",
              " 364: 'war',\n",
              " 365: 'soon',\n",
              " 366: 'term',\n",
              " 367: 'point',\n",
              " 368: 'produce',\n",
              " 369: 'drive',\n",
              " 370: 'nation',\n",
              " 371: 'purchase',\n",
              " 372: 'basic',\n",
              " 373: 'tell',\n",
              " 374: 'old',\n",
              " 375: 'advice',\n",
              " 376: 'kind',\n",
              " 377: 'top',\n",
              " 378: 'future',\n",
              " 379: 'wear',\n",
              " 380: 'control',\n",
              " 381: 'sell',\n",
              " 382: 'shift',\n",
              " 383: 'info',\n",
              " 384: 'running',\n",
              " 385: 'putting',\n",
              " 386: 'idea',\n",
              " 387: 'provide',\n",
              " 388: 'paid',\n",
              " 389: 'yesterday',\n",
              " 390: 'senior',\n",
              " 391: 'bottle',\n",
              " 392: 'restriction',\n",
              " 393: 'based',\n",
              " 394: 'k',\n",
              " 395: 'bread',\n",
              " 396: 'keeping',\n",
              " 397: 'th',\n",
              " 398: 'street',\n",
              " 399: 'testing',\n",
              " 400: 'possible',\n",
              " 401: 'surge',\n",
              " 402: 'gone',\n",
              " 403: 'save',\n",
              " 404: 'pack',\n",
              " 405: 'drug',\n",
              " 406: 'found',\n",
              " 407: 'three',\n",
              " 408: 'ask',\n",
              " 409: 'sign',\n",
              " 410: 'healthcare',\n",
              " 411: 'extra',\n",
              " 412: 'major',\n",
              " 413: 'bad',\n",
              " 414: 'saw',\n",
              " 415: 'die',\n",
              " 416: 'website',\n",
              " 417: 'huge',\n",
              " 418: 'caused',\n",
              " 419: 'selfish',\n",
              " 420: 'closure',\n",
              " 421: 'seeing',\n",
              " 422: 'bag',\n",
              " 423: 'commodity',\n",
              " 424: 'waiting',\n",
              " 425: 'advantage',\n",
              " 426: 'fresh',\n",
              " 427: 'concern',\n",
              " 428: 'sold',\n",
              " 429: 'offering',\n",
              " 430: 'reduce',\n",
              " 431: 'email',\n",
              " 432: 'early',\n",
              " 433: 'tested',\n",
              " 434: 'aisle',\n",
              " 435: 'watch',\n",
              " 436: 'hero',\n",
              " 437: 'effect',\n",
              " 438: 'prevent',\n",
              " 439: 'walmart',\n",
              " 440: 'egg',\n",
              " 441: 'join',\n",
              " 442: 'rate',\n",
              " 443: 'kid',\n",
              " 444: 'team',\n",
              " 445: 'yet',\n",
              " 446: 'school',\n",
              " 447: 'almost',\n",
              " 448: 'understand',\n",
              " 449: 'sector',\n",
              " 450: 'cannot',\n",
              " 451: 'following',\n",
              " 452: 'america',\n",
              " 453: 'personal',\n",
              " 454: 'spreading',\n",
              " 455: 'step',\n",
              " 456: 'trend',\n",
              " 457: 'crazy',\n",
              " 458: 'inside',\n",
              " 459: 'actually',\n",
              " 460: 'office',\n",
              " 461: 'special',\n",
              " 462: 'far',\n",
              " 463: 'gouging',\n",
              " 464: 'needed',\n",
              " 465: 'experience',\n",
              " 466: 'door',\n",
              " 467: 'fuel',\n",
              " 468: 'problem',\n",
              " 469: 'buyer',\n",
              " 470: 'healthy',\n",
              " 471: 'eat',\n",
              " 472: 'changing',\n",
              " 473: 'ago',\n",
              " 474: 'ppl',\n",
              " 475: 'giving',\n",
              " 476: 'given',\n",
              " 477: 'whole',\n",
              " 478: 'stuff',\n",
              " 479: 'meat',\n",
              " 480: 'taken',\n",
              " 481: 'despite',\n",
              " 482: 'pick',\n",
              " 483: 'bring',\n",
              " 484: 'human',\n",
              " 485: 'policy',\n",
              " 486: 'yes',\n",
              " 487: 'shut',\n",
              " 488: 'love',\n",
              " 489: 'wait',\n",
              " 490: 'ensure',\n",
              " 491: 'stocked',\n",
              " 492: 'package',\n",
              " 493: 'relief',\n",
              " 494: 'changed',\n",
              " 495: 'effort',\n",
              " 496: 'security',\n",
              " 497: 'seriously',\n",
              " 498: 'tp',\n",
              " 499: 'saying',\n",
              " 500: 'c',\n",
              " 501: 'govt',\n",
              " 502: 'follow',\n",
              " 503: 'benefit',\n",
              " 504: 'action',\n",
              " 505: 'difficult',\n",
              " 506: 'probably',\n",
              " 507: 'canada',\n",
              " 508: 'link',\n",
              " 509: 'national',\n",
              " 510: 'period',\n",
              " 511: 'remain',\n",
              " 512: 'behaviour',\n",
              " 513: 'cure',\n",
              " 514: 'ok',\n",
              " 515: 'folk',\n",
              " 516: 'realdonaldtrump',\n",
              " 517: 'recession',\n",
              " 518: 'pantry',\n",
              " 519: 'kit',\n",
              " 520: 'confidence',\n",
              " 521: 'resource',\n",
              " 522: 'slot',\n",
              " 523: 'profit',\n",
              " 524: 'tomorrow',\n",
              " 525: 'message',\n",
              " 526: 'italy',\n",
              " 527: 'short',\n",
              " 528: 'cashier',\n",
              " 529: 'asked',\n",
              " 530: 'cleaning',\n",
              " 531: 'survey',\n",
              " 532: 'amount',\n",
              " 533: 'household',\n",
              " 534: 'closing',\n",
              " 535: 'sanitizers',\n",
              " 536: 'plenty',\n",
              " 537: 'fruit',\n",
              " 538: 'facing',\n",
              " 539: 'shit',\n",
              " 540: 'donation',\n",
              " 541: 'started',\n",
              " 542: 'ceo',\n",
              " 543: 'necessary',\n",
              " 544: 'citizen',\n",
              " 545: 'station',\n",
              " 546: 'fund',\n",
              " 547: 'bill',\n",
              " 548: 'phone',\n",
              " 549: 'half',\n",
              " 550: 'maybe',\n",
              " 551: 'continues',\n",
              " 552: 'consider',\n",
              " 553: 'gov',\n",
              " 554: 'challenge',\n",
              " 555: 'increasing',\n",
              " 556: 'living',\n",
              " 557: 'truck',\n",
              " 558: 'force',\n",
              " 559: 'become',\n",
              " 560: 'moment',\n",
              " 561: 'reduced',\n",
              " 562: 'child',\n",
              " 563: 'allow',\n",
              " 564: 'research',\n",
              " 565: 'insight',\n",
              " 566: 'detail',\n",
              " 567: 'pasta',\n",
              " 568: 'survive',\n",
              " 569: 'law',\n",
              " 570: 'thinking',\n",
              " 571: 'announced',\n",
              " 572: 'act',\n",
              " 573: 'rule',\n",
              " 574: 'past',\n",
              " 575: 'critical',\n",
              " 576: 'box',\n",
              " 577: 'clean',\n",
              " 578: 'according',\n",
              " 579: 'kill',\n",
              " 580: 'warning',\n",
              " 581: 'ready',\n",
              " 582: 'date',\n",
              " 583: 'patient',\n",
              " 584: 'wrong',\n",
              " 585: 'hear',\n",
              " 586: 'different',\n",
              " 587: 'died',\n",
              " 588: 'delivered',\n",
              " 589: 'cash',\n",
              " 590: 'owner',\n",
              " 591: 'turn',\n",
              " 592: 'strong',\n",
              " 593: 'credit',\n",
              " 594: 'australia',\n",
              " 595: 'second',\n",
              " 596: 'habit',\n",
              " 597: 'currently',\n",
              " 598: 'worse',\n",
              " 599: 'talk',\n",
              " 600: 'starting',\n",
              " 601: 'lost',\n",
              " 602: 'president',\n",
              " 603: 'meal',\n",
              " 604: 'payment',\n",
              " 605: 'light',\n",
              " 606: 'trade',\n",
              " 607: 'income',\n",
              " 608: 'official',\n",
              " 609: 'near',\n",
              " 610: 'night',\n",
              " 611: 'medicine',\n",
              " 612: 'bit',\n",
              " 613: 'general',\n",
              " 614: 'alert',\n",
              " 615: 'practice',\n",
              " 616: 'limited',\n",
              " 617: 'monday',\n",
              " 618: 'expected',\n",
              " 619: 'opportunity',\n",
              " 620: 'condition',\n",
              " 621: 'large',\n",
              " 622: 'article',\n",
              " 623: 'expect',\n",
              " 624: 'staying',\n",
              " 625: 'gold',\n",
              " 626: 'poor',\n",
              " 627: 'called',\n",
              " 628: 'unprecedented',\n",
              " 629: 'p',\n",
              " 630: 'asda',\n",
              " 631: 'came',\n",
              " 632: 'south',\n",
              " 633: 'deliver',\n",
              " 634: 'longer',\n",
              " 635: 'struggling',\n",
              " 636: 'trader',\n",
              " 637: 'move',\n",
              " 638: 'stockpiling',\n",
              " 639: 'donate',\n",
              " 640: 'allowed',\n",
              " 641: 'option',\n",
              " 642: 'add',\n",
              " 643: 'mind',\n",
              " 644: 'guess',\n",
              " 645: 'saudi',\n",
              " 646: 'russia',\n",
              " 647: 'co',\n",
              " 648: 'producer',\n",
              " 649: 'minute',\n",
              " 650: 'break',\n",
              " 651: 'chinese',\n",
              " 652: 'fuck',\n",
              " 653: 'serious',\n",
              " 654: 'cart',\n",
              " 655: 'society',\n",
              " 656: 'growing',\n",
              " 657: 'hoard',\n",
              " 658: 'fighting',\n",
              " 659: 'event',\n",
              " 660: 'growth',\n",
              " 661: 'responder',\n",
              " 662: 'true',\n",
              " 663: 'amazing',\n",
              " 664: 'finally',\n",
              " 665: 'wake',\n",
              " 666: 'disease',\n",
              " 667: 'fucking',\n",
              " 668: 'cough',\n",
              " 669: 'coughing',\n",
              " 670: 'walk',\n",
              " 671: 'sainsburys',\n",
              " 672: 'gonna',\n",
              " 673: 'giant',\n",
              " 674: 'lead',\n",
              " 675: 'decline',\n",
              " 676: 'believe',\n",
              " 677: 'energy',\n",
              " 678: 'hey',\n",
              " 679: 'afford',\n",
              " 680: 'st',\n",
              " 681: 'however',\n",
              " 682: 'recent',\n",
              " 683: 'distribution',\n",
              " 684: 'equipment',\n",
              " 685: 'reason',\n",
              " 686: 'showing',\n",
              " 687: 'fast',\n",
              " 688: 'card',\n",
              " 689: 'impacted',\n",
              " 690: 'seems',\n",
              " 691: 'site',\n",
              " 692: 'vegetable',\n",
              " 693: 'commerce',\n",
              " 694: 'hiking',\n",
              " 695: 'wage',\n",
              " 696: 'scammer',\n",
              " 697: 'view',\n",
              " 698: 'minister',\n",
              " 699: 'clerk',\n",
              " 700: 'driving',\n",
              " 701: 'word',\n",
              " 702: 'asking',\n",
              " 703: 'pub',\n",
              " 704: 'rice',\n",
              " 705: 'lock',\n",
              " 706: 'bus',\n",
              " 707: 'priority',\n",
              " 708: 'picture',\n",
              " 709: 'interesting',\n",
              " 710: 'send',\n",
              " 711: 'god',\n",
              " 712: 'operation',\n",
              " 713: 'resident',\n",
              " 714: 'matter',\n",
              " 715: 'later',\n",
              " 716: 'worried',\n",
              " 717: 'book',\n",
              " 718: 'providing',\n",
              " 719: 'dr',\n",
              " 720: 'stand',\n",
              " 721: 'feed',\n",
              " 722: 'temporarily',\n",
              " 723: 'volunteer',\n",
              " 724: 'decided',\n",
              " 725: 'infected',\n",
              " 726: 'claim',\n",
              " 727: 'single',\n",
              " 728: 'several',\n",
              " 729: 'idiot',\n",
              " 730: 'opening',\n",
              " 731: 'hi',\n",
              " 732: 'weekly',\n",
              " 733: 'lack',\n",
              " 734: 'took',\n",
              " 735: 'marketing',\n",
              " 736: 'raise',\n",
              " 737: 'couple',\n",
              " 738: 'borisjohnson',\n",
              " 739: 'create',\n",
              " 740: 'frontline',\n",
              " 741: 'governor',\n",
              " 742: 'charge',\n",
              " 743: 'happening',\n",
              " 744: 'blog',\n",
              " 745: 'foot',\n",
              " 746: 'worth',\n",
              " 747: 'game',\n",
              " 748: 'united',\n",
              " 749: 'space',\n",
              " 750: 'happen',\n",
              " 751: 'happy',\n",
              " 752: 'sentiment',\n",
              " 753: 'worry',\n",
              " 754: 'bare',\n",
              " 755: 'feeling',\n",
              " 756: 'quick',\n",
              " 757: 'massive',\n",
              " 758: 'worked',\n",
              " 759: 'federal',\n",
              " 760: 'regular',\n",
              " 761: 'quickly',\n",
              " 762: 'slow',\n",
              " 763: 'within',\n",
              " 764: 'v',\n",
              " 765: 'thursday',\n",
              " 766: 'hold',\n",
              " 767: 'forced',\n",
              " 768: 'baby',\n",
              " 769: 'morrison',\n",
              " 770: 'behind',\n",
              " 771: 'symptom',\n",
              " 772: 'leader',\n",
              " 773: 'county',\n",
              " 774: 'imagine',\n",
              " 775: 'photo',\n",
              " 776: 'affect',\n",
              " 777: 'fact',\n",
              " 778: 'shame',\n",
              " 779: 'falling',\n",
              " 780: 'sent',\n",
              " 781: 'forward',\n",
              " 782: 'crude',\n",
              " 783: 'pet',\n",
              " 784: 'record',\n",
              " 785: 'youtube',\n",
              " 786: 'till',\n",
              " 787: 'spend',\n",
              " 788: 'solution',\n",
              " 789: 'mass',\n",
              " 790: 'trolley',\n",
              " 791: 'private',\n",
              " 792: 'cheap',\n",
              " 793: 'dont',\n",
              " 794: 'f',\n",
              " 795: 'strategy',\n",
              " 796: 'park',\n",
              " 797: 'notice',\n",
              " 798: 'asian',\n",
              " 799: 'waste',\n",
              " 800: 'walking',\n",
              " 801: 'side',\n",
              " 802: 'road',\n",
              " 803: 'return',\n",
              " 804: 'nice',\n",
              " 805: 'power',\n",
              " 806: 'apart',\n",
              " 807: 'impacting',\n",
              " 808: 'husband',\n",
              " 809: 'thousand',\n",
              " 810: 'note',\n",
              " 811: 'potential',\n",
              " 812: 'centre',\n",
              " 813: 'temporary',\n",
              " 814: 'assistance',\n",
              " 815: 'anxiety',\n",
              " 816: 'among',\n",
              " 817: 'example',\n",
              " 818: 'firm',\n",
              " 819: 'holiday',\n",
              " 820: 'ridiculous',\n",
              " 821: 'though',\n",
              " 822: 'along',\n",
              " 823: 'air',\n",
              " 824: 'wonder',\n",
              " 825: 'calling',\n",
              " 826: 'value',\n",
              " 827: 'location',\n",
              " 828: 'sir',\n",
              " 829: 'created',\n",
              " 830: 'loss',\n",
              " 831: 'threat',\n",
              " 832: 'cent',\n",
              " 833: 'consumption',\n",
              " 834: 'precaution',\n",
              " 835: 'treat',\n",
              " 836: 'head',\n",
              " 837: 'ftc',\n",
              " 838: 'name',\n",
              " 839: 'town',\n",
              " 840: 'simple',\n",
              " 841: 'ebay',\n",
              " 842: 'york',\n",
              " 843: 'hygiene',\n",
              " 844: 'hike',\n",
              " 845: 'rising',\n",
              " 846: 'eu',\n",
              " 847: 'beginning',\n",
              " 848: 'tax',\n",
              " 849: 'rather',\n",
              " 850: 'lol',\n",
              " 851: 'discus',\n",
              " 852: 'donating',\n",
              " 853: 'gift',\n",
              " 854: 'hr',\n",
              " 855: 'raising',\n",
              " 856: 'wish',\n",
              " 857: 'dear',\n",
              " 858: 'housing',\n",
              " 859: 'infection',\n",
              " 860: 'direct',\n",
              " 861: 'source',\n",
              " 862: 'activity',\n",
              " 863: 'confirmed',\n",
              " 864: 'account',\n",
              " 865: 'supplier',\n",
              " 866: 'stocking',\n",
              " 867: 'grateful',\n",
              " 868: 'four',\n",
              " 869: 'warehouse',\n",
              " 870: 'transport',\n",
              " 871: 'damn',\n",
              " 872: 'greater',\n",
              " 873: 'amidst',\n",
              " 874: 'unemployment',\n",
              " 875: 'usa',\n",
              " 876: 'oh',\n",
              " 877: 'hunger',\n",
              " 878: 'towel',\n",
              " 879: 'click',\n",
              " 880: 'ordered',\n",
              " 881: 'either',\n",
              " 882: 'listen',\n",
              " 883: 'platform',\n",
              " 884: 'clear',\n",
              " 885: 'weekend',\n",
              " 886: 'felt',\n",
              " 887: 'respect',\n",
              " 888: 'shutdown',\n",
              " 889: 'rent',\n",
              " 890: 'seller',\n",
              " 891: 'parent',\n",
              " 892: 'whether',\n",
              " 893: 'sense',\n",
              " 894: 'include',\n",
              " 895: 'x',\n",
              " 896: 'pretty',\n",
              " 897: 'recovery',\n",
              " 898: 'prepare',\n",
              " 899: 'reality',\n",
              " 900: 'digital',\n",
              " 901: 'disinfectant',\n",
              " 902: 'calm',\n",
              " 903: 'led',\n",
              " 904: 'staple',\n",
              " 905: 'isolating',\n",
              " 906: 'checkout',\n",
              " 907: 'received',\n",
              " 908: 'inflated',\n",
              " 909: 'talking',\n",
              " 910: 'breaking',\n",
              " 911: 'analysis',\n",
              " 912: 'collapse',\n",
              " 913: 'client',\n",
              " 914: 'partner',\n",
              " 915: 'mom',\n",
              " 916: 'lady',\n",
              " 917: 'middle',\n",
              " 918: 'enter',\n",
              " 919: 'manager',\n",
              " 920: 'billion',\n",
              " 921: 'narendramodi',\n",
              " 922: 'washing',\n",
              " 923: 'ppe',\n",
              " 924: 'finding',\n",
              " 925: 'everywhere',\n",
              " 926: 'stress',\n",
              " 927: 'exposed',\n",
              " 928: 'wine',\n",
              " 929: 'focus',\n",
              " 930: 'fair',\n",
              " 931: 'pre',\n",
              " 932: 'age',\n",
              " 933: 'touch',\n",
              " 934: 'saving',\n",
              " 935: 'meeting',\n",
              " 936: 'dollar',\n",
              " 937: 'apparently',\n",
              " 938: 'estate',\n",
              " 939: 'eye',\n",
              " 940: 'boost',\n",
              " 941: 'bar',\n",
              " 942: 'producing',\n",
              " 943: 'insurance',\n",
              " 944: 'reach',\n",
              " 945: 'sad',\n",
              " 946: 'beyond',\n",
              " 947: 'club',\n",
              " 948: 'greedy',\n",
              " 949: 'paying',\n",
              " 950: 'necessity',\n",
              " 951: 'watching',\n",
              " 952: 'catch',\n",
              " 953: 'complaint',\n",
              " 954: 'dropped',\n",
              " 955: 'usual',\n",
              " 956: 'forget',\n",
              " 957: 'absolutely',\n",
              " 958: 'friday',\n",
              " 959: 'protective',\n",
              " 960: 'mother',\n",
              " 961: 'reported',\n",
              " 962: 'airline',\n",
              " 963: 'delivering',\n",
              " 964: 'vaccine',\n",
              " 965: 'piece',\n",
              " 966: 'eating',\n",
              " 967: 'process',\n",
              " 968: 'uncertainty',\n",
              " 969: 'ventilator',\n",
              " 970: 'struggle',\n",
              " 971: 'tonight',\n",
              " 972: 'regarding',\n",
              " 973: 'app',\n",
              " 974: 'commission',\n",
              " 975: 'reporting',\n",
              " 976: 'canadian',\n",
              " 977: 'spike',\n",
              " 978: 'channel',\n",
              " 979: 'pmoindia',\n",
              " 980: 'biggest',\n",
              " 981: 'unless',\n",
              " 982: 'black',\n",
              " 983: 'protecting',\n",
              " 984: 'property',\n",
              " 985: 'appreciate',\n",
              " 986: 'au',\n",
              " 987: 'flour',\n",
              " 988: 'certain',\n",
              " 989: 'petrol',\n",
              " 990: 'choice',\n",
              " 991: 'output',\n",
              " 992: 'ongoing',\n",
              " 993: 'charity',\n",
              " 994: 'ticket',\n",
              " 995: 'department',\n",
              " 996: 'super',\n",
              " 997: 'updated',\n",
              " 998: 'mall',\n",
              " 999: 'stupid',\n",
              " 1000: 'answer',\n",
              " ...}"
            ]
          },
          "metadata": {},
          "execution_count": 44
        }
      ]
    },
    {
      "cell_type": "code",
      "source": [
        "_vocab_len = len(tok.index_word)\n",
        "_vocab_len"
      ],
      "metadata": {
        "colab": {
          "base_uri": "https://localhost:8080/"
        },
        "id": "1nQbaKGKSTTd",
        "outputId": "5c9b11e1-43dc-423a-87c4-6628e452a0be"
      },
      "execution_count": null,
      "outputs": [
        {
          "output_type": "execute_result",
          "data": {
            "text/plain": [
              "17211"
            ]
          },
          "metadata": {},
          "execution_count": 45
        }
      ]
    },
    {
      "cell_type": "code",
      "source": [
        "len(train_data)"
      ],
      "metadata": {
        "colab": {
          "base_uri": "https://localhost:8080/"
        },
        "id": "hccJXNSCTYDY",
        "outputId": "991e4339-f75a-4f11-f786-0450776f6417"
      },
      "execution_count": null,
      "outputs": [
        {
          "output_type": "execute_result",
          "data": {
            "text/plain": [
              "10000"
            ]
          },
          "metadata": {},
          "execution_count": 46
        }
      ]
    },
    {
      "cell_type": "code",
      "source": [
        "seqtrain = tok.texts_to_sequences(train_data[\"OriginalTweet\"]) #step1\n",
        "seqtrain[0]"
      ],
      "metadata": {
        "colab": {
          "base_uri": "https://localhost:8080/"
        },
        "id": "ooJorxHOTfMb",
        "outputId": "1885d978-8aba-4823-ccfe-f3ada234d1e6"
      },
      "execution_count": null,
      "outputs": [
        {
          "output_type": "execute_result",
          "data": {
            "text/plain": [
              "[110,\n",
              " 680,\n",
              " 661,\n",
              " 306,\n",
              " 47,\n",
              " 7,\n",
              " 6,\n",
              " 3,\n",
              " 699,\n",
              " 238,\n",
              " 17,\n",
              " 169,\n",
              " 758,\n",
              " 1698,\n",
              " 18,\n",
              " 16,\n",
              " 105,\n",
              " 1343,\n",
              " 165,\n",
              " 2039,\n",
              " 867,\n",
              " 194]"
            ]
          },
          "metadata": {},
          "execution_count": 47
        }
      ]
    },
    {
      "cell_type": "code",
      "source": [
        "seqmattrain = sequence.pad_sequences(seqtrain, maxlen= int(max_len)) #step2\n",
        "seqmattrain[0]"
      ],
      "metadata": {
        "colab": {
          "base_uri": "https://localhost:8080/"
        },
        "id": "WRGbQuSsTvxf",
        "outputId": "80bbd42f-5b35-4a5f-d43c-754eae783d01"
      },
      "execution_count": null,
      "outputs": [
        {
          "output_type": "execute_result",
          "data": {
            "text/plain": [
              "array([   0,    0,    0,    0,    0,  110,  680,  661,  306,   47,    7,\n",
              "          6,    3,  699,  238,   17,  169,  758, 1698,   18,   16,  105,\n",
              "       1343,  165, 2039,  867,  194], dtype=int32)"
            ]
          },
          "metadata": {},
          "execution_count": 48
        }
      ]
    },
    {
      "cell_type": "code",
      "source": [
        "seqtest = tok.texts_to_sequences(test_data[\"OriginalTweet\"])\n",
        "seqmattest = sequence.pad_sequences(seqtest, maxlen=int(max_len))\n",
        "seqmattest"
      ],
      "metadata": {
        "colab": {
          "base_uri": "https://localhost:8080/"
        },
        "id": "GYoTclUOT1kc",
        "outputId": "ced2180a-cb25-45e0-d659-a3ec2e7ee425"
      },
      "execution_count": null,
      "outputs": [
        {
          "output_type": "execute_result",
          "data": {
            "text/plain": [
              "array([[   0,  239, 2445, ...,   25,  106,    7],\n",
              "       [   0,    0,  937, ..., 1052, 1195,   69],\n",
              "       [   0,    0,    0, ...,  612,    1, 2203],\n",
              "       ...,\n",
              "       [   0,    0,    0, ...,  375,  133,  291],\n",
              "       [   0,    0,    0, ..., 1974,    6,   70],\n",
              "       [   0,    0,    0, ...,   18,   96, 2612]], dtype=int32)"
            ]
          },
          "metadata": {},
          "execution_count": 49
        }
      ]
    },
    {
      "cell_type": "code",
      "source": [
        "_vocab_len"
      ],
      "metadata": {
        "colab": {
          "base_uri": "https://localhost:8080/"
        },
        "id": "OhdhuP_FT_n1",
        "outputId": "6fa9008d-7da4-4c1c-9d12-ad238f333117"
      },
      "execution_count": null,
      "outputs": [
        {
          "output_type": "execute_result",
          "data": {
            "text/plain": [
              "17211"
            ]
          },
          "metadata": {},
          "execution_count": 50
        }
      ]
    },
    {
      "cell_type": "code",
      "source": [
        "max_len"
      ],
      "metadata": {
        "colab": {
          "base_uri": "https://localhost:8080/"
        },
        "id": "hu1_2kmVUDtm",
        "outputId": "bfd7ff55-cc46-4347-a817-1d6ab822c60f"
      },
      "execution_count": null,
      "outputs": [
        {
          "output_type": "execute_result",
          "data": {
            "text/plain": [
              "27.0"
            ]
          },
          "metadata": {},
          "execution_count": 51
        }
      ]
    },
    {
      "cell_type": "code",
      "source": [
        "rnn = Sequential()\n",
        "\n",
        "rnn.add(Embedding(_vocab_len+1,700, input_length=int(max_len), mask_zero=True))\n",
        "rnn.add(SimpleRNN(units=32, activation=\"tanh\"))\n",
        "rnn.add(Dense(units=32, activation=\"relu\"))\n",
        "rnn.add(Dropout(0.2))\n",
        "\n",
        "rnn.add(Dense(units = 3,activation = \"softmax\"))\n",
        "\n",
        "rnn.compile(optimizer=\"adam\", loss=\"sparse_categorical_crossentropy\",metrics = [\"acc\"])\n",
        "\n",
        "rnn.fit(seqmattrain, y_train, batch_size=50, epochs=50)\n",
        "\n",
        "ypred = rnn.predict(seqmattest)\n",
        "\n",
        "ypred = np.argmax(ypred,axis =1)"
      ],
      "metadata": {
        "colab": {
          "base_uri": "https://localhost:8080/"
        },
        "id": "uDTWVwykUY7O",
        "outputId": "f7ea3ce1-36e4-43dd-ee09-4bd43ffe8151"
      },
      "execution_count": null,
      "outputs": [
        {
          "output_type": "stream",
          "name": "stdout",
          "text": [
            "Epoch 1/50\n",
            "200/200 [==============================] - 30s 143ms/step - loss: 0.8696 - acc: 0.5889\n",
            "Epoch 2/50\n",
            "200/200 [==============================] - 29s 144ms/step - loss: 0.3195 - acc: 0.8910\n",
            "Epoch 3/50\n",
            "200/200 [==============================] - 29s 145ms/step - loss: 0.0830 - acc: 0.9743\n",
            "Epoch 4/50\n",
            "200/200 [==============================] - 28s 141ms/step - loss: 0.0243 - acc: 0.9946\n",
            "Epoch 5/50\n",
            "200/200 [==============================] - 29s 147ms/step - loss: 0.0133 - acc: 0.9969\n",
            "Epoch 6/50\n",
            "200/200 [==============================] - 28s 142ms/step - loss: 0.0150 - acc: 0.9965\n",
            "Epoch 7/50\n",
            "200/200 [==============================] - 29s 143ms/step - loss: 0.0100 - acc: 0.9975\n",
            "Epoch 8/50\n",
            "200/200 [==============================] - 28s 142ms/step - loss: 0.0132 - acc: 0.9954\n",
            "Epoch 9/50\n",
            "200/200 [==============================] - 29s 143ms/step - loss: 0.0467 - acc: 0.9856\n",
            "Epoch 10/50\n",
            "200/200 [==============================] - 28s 143ms/step - loss: 0.0439 - acc: 0.9848\n",
            "Epoch 11/50\n",
            "200/200 [==============================] - 28s 141ms/step - loss: 0.0313 - acc: 0.9900\n",
            "Epoch 12/50\n",
            "200/200 [==============================] - 28s 139ms/step - loss: 0.0081 - acc: 0.9980\n",
            "Epoch 13/50\n",
            "200/200 [==============================] - 28s 141ms/step - loss: 0.0043 - acc: 0.9989\n",
            "Epoch 14/50\n",
            "200/200 [==============================] - 29s 144ms/step - loss: 0.0013 - acc: 0.9998\n",
            "Epoch 15/50\n",
            "200/200 [==============================] - 28s 141ms/step - loss: 0.0017 - acc: 0.9997\n",
            "Epoch 16/50\n",
            "200/200 [==============================] - 28s 138ms/step - loss: 9.2334e-04 - acc: 0.9999\n",
            "Epoch 17/50\n",
            "200/200 [==============================] - 28s 140ms/step - loss: 8.7055e-04 - acc: 0.9999\n",
            "Epoch 18/50\n",
            "200/200 [==============================] - 28s 142ms/step - loss: 0.0015 - acc: 0.9998\n",
            "Epoch 19/50\n",
            "200/200 [==============================] - 28s 138ms/step - loss: 0.0016 - acc: 0.9997\n",
            "Epoch 20/50\n",
            "200/200 [==============================] - 28s 138ms/step - loss: 7.7739e-04 - acc: 0.9999\n",
            "Epoch 21/50\n",
            "200/200 [==============================] - 28s 138ms/step - loss: 0.0015 - acc: 0.9997\n",
            "Epoch 22/50\n",
            "200/200 [==============================] - 28s 138ms/step - loss: 0.0359 - acc: 0.9898\n",
            "Epoch 23/50\n",
            "200/200 [==============================] - 28s 140ms/step - loss: 0.0885 - acc: 0.9716\n",
            "Epoch 24/50\n",
            "200/200 [==============================] - 28s 138ms/step - loss: 0.0480 - acc: 0.9848\n",
            "Epoch 25/50\n",
            "200/200 [==============================] - 27s 137ms/step - loss: 0.0136 - acc: 0.9964\n",
            "Epoch 26/50\n",
            "200/200 [==============================] - 28s 139ms/step - loss: 0.0023 - acc: 0.9996\n",
            "Epoch 27/50\n",
            "200/200 [==============================] - 28s 139ms/step - loss: 0.0011 - acc: 1.0000\n",
            "Epoch 28/50\n",
            "200/200 [==============================] - 28s 138ms/step - loss: 6.7954e-04 - acc: 1.0000\n",
            "Epoch 29/50\n",
            "200/200 [==============================] - 28s 138ms/step - loss: 6.0317e-04 - acc: 1.0000\n",
            "Epoch 30/50\n",
            "200/200 [==============================] - 28s 138ms/step - loss: 5.0027e-04 - acc: 1.0000\n",
            "Epoch 31/50\n",
            "200/200 [==============================] - 28s 139ms/step - loss: 6.1660e-04 - acc: 0.9999\n",
            "Epoch 32/50\n",
            "200/200 [==============================] - 28s 140ms/step - loss: 7.1273e-04 - acc: 0.9999\n",
            "Epoch 33/50\n",
            "200/200 [==============================] - 27s 137ms/step - loss: 0.0073 - acc: 0.9981\n",
            "Epoch 34/50\n",
            "200/200 [==============================] - 27s 137ms/step - loss: 0.0346 - acc: 0.9892\n",
            "Epoch 35/50\n",
            "200/200 [==============================] - 28s 139ms/step - loss: 0.0325 - acc: 0.9890\n",
            "Epoch 36/50\n",
            "200/200 [==============================] - 28s 139ms/step - loss: 0.0179 - acc: 0.9954\n",
            "Epoch 37/50\n",
            "200/200 [==============================] - 28s 139ms/step - loss: 0.0036 - acc: 0.9992\n",
            "Epoch 38/50\n",
            "200/200 [==============================] - 28s 139ms/step - loss: 0.0012 - acc: 1.0000\n",
            "Epoch 39/50\n",
            "200/200 [==============================] - 28s 139ms/step - loss: 6.5025e-04 - acc: 1.0000\n",
            "Epoch 40/50\n",
            "200/200 [==============================] - 28s 138ms/step - loss: 6.8183e-04 - acc: 0.9999\n",
            "Epoch 41/50\n",
            "200/200 [==============================] - 28s 141ms/step - loss: 5.1905e-04 - acc: 0.9999\n",
            "Epoch 42/50\n",
            "200/200 [==============================] - 28s 138ms/step - loss: 8.6576e-04 - acc: 0.9999\n",
            "Epoch 43/50\n",
            "200/200 [==============================] - 31s 153ms/step - loss: 5.1699e-04 - acc: 0.9999\n",
            "Epoch 44/50\n",
            "200/200 [==============================] - 30s 150ms/step - loss: 6.4819e-04 - acc: 0.9999\n",
            "Epoch 45/50\n",
            "200/200 [==============================] - 30s 148ms/step - loss: 2.3279e-04 - acc: 1.0000\n",
            "Epoch 46/50\n",
            "200/200 [==============================] - 29s 147ms/step - loss: 2.2541e-04 - acc: 1.0000\n",
            "Epoch 47/50\n",
            "200/200 [==============================] - 30s 149ms/step - loss: 2.0923e-04 - acc: 1.0000\n",
            "Epoch 48/50\n",
            "200/200 [==============================] - 29s 145ms/step - loss: 1.7976e-04 - acc: 1.0000\n",
            "Epoch 49/50\n",
            "200/200 [==============================] - 29s 147ms/step - loss: 1.7931e-04 - acc: 1.0000\n",
            "Epoch 50/50\n",
            "200/200 [==============================] - 29s 147ms/step - loss: 1.6548e-04 - acc: 1.0000\n",
            "63/63 [==============================] - 1s 8ms/step\n"
          ]
        }
      ]
    },
    {
      "cell_type": "code",
      "source": [
        "from sklearn.metrics import classification_report\n",
        "print(classification_report(y_test, ypred))\n",
        "print(\"Accuracy_Score: \\n\",accuracy_score(y_test, ypred))"
      ],
      "metadata": {
        "colab": {
          "base_uri": "https://localhost:8080/"
        },
        "id": "I-meimmEUorL",
        "outputId": "fe2c09ea-8f2f-45ce-85fc-c2c5aeb1f5a6"
      },
      "execution_count": null,
      "outputs": [
        {
          "output_type": "stream",
          "name": "stdout",
          "text": [
            "              precision    recall  f1-score   support\n",
            "\n",
            "           0       0.67      0.63      0.65       855\n",
            "           1       0.63      0.68      0.65       795\n",
            "           2       0.48      0.46      0.47       350\n",
            "\n",
            "    accuracy                           0.62      2000\n",
            "   macro avg       0.59      0.59      0.59      2000\n",
            "weighted avg       0.62      0.62      0.62      2000\n",
            "\n",
            "Accuracy_Score: \n",
            " 0.6185\n"
          ]
        }
      ]
    },
    {
      "cell_type": "code",
      "source": [
        "rnn = Sequential()\n",
        "\n",
        "rnn.add(Embedding(_vocab_len+1,700, input_length=int(max_len), mask_zero=True))\n",
        "\n",
        "rnn.add(LSTM(units=32, activation=\"tanh\"))\n",
        "rnn.add(Dense(units=32, activation=\"relu\"))\n",
        "rnn.add(Dropout(0.2))\n",
        "\n",
        "rnn.add(Dense(units = 3,activation = \"softmax\"))\n",
        "\n",
        "rnn.compile(optimizer=\"adam\", loss=\"sparse_categorical_crossentropy\",metrics = [\"acc\"])\n",
        "\n",
        "rnn.fit(seqmattrain, y_train, batch_size=50, epochs=50)\n",
        "\n",
        "ypred = rnn.predict(seqmattest)\n",
        "\n",
        "ypred = np.argmax(ypred,axis =1)"
      ],
      "metadata": {
        "colab": {
          "base_uri": "https://localhost:8080/"
        },
        "id": "eQFvYOGAVWfT",
        "outputId": "77d65606-2975-41cf-85ec-aabdacb3a305"
      },
      "execution_count": null,
      "outputs": [
        {
          "output_type": "stream",
          "name": "stdout",
          "text": [
            "Epoch 1/50\n",
            "200/200 [==============================] - 39s 171ms/step - loss: 0.8103 - acc: 0.6383\n",
            "Epoch 2/50\n",
            "200/200 [==============================] - 34s 170ms/step - loss: 0.3456 - acc: 0.8857\n",
            "Epoch 3/50\n",
            "200/200 [==============================] - 34s 169ms/step - loss: 0.1540 - acc: 0.9543\n",
            "Epoch 4/50\n",
            "200/200 [==============================] - 34s 168ms/step - loss: 0.0825 - acc: 0.9765\n",
            "Epoch 5/50\n",
            "200/200 [==============================] - 35s 173ms/step - loss: 0.0530 - acc: 0.9850\n",
            "Epoch 6/50\n",
            "200/200 [==============================] - 34s 169ms/step - loss: 0.0314 - acc: 0.9917\n",
            "Epoch 7/50\n",
            "200/200 [==============================] - 34s 171ms/step - loss: 0.0180 - acc: 0.9954\n",
            "Epoch 8/50\n",
            "200/200 [==============================] - 34s 169ms/step - loss: 0.0169 - acc: 0.9955\n",
            "Epoch 9/50\n",
            "200/200 [==============================] - 34s 169ms/step - loss: 0.0114 - acc: 0.9970\n",
            "Epoch 10/50\n",
            "200/200 [==============================] - 34s 168ms/step - loss: 0.0142 - acc: 0.9957\n",
            "Epoch 11/50\n",
            "200/200 [==============================] - 33s 167ms/step - loss: 0.0263 - acc: 0.9931\n",
            "Epoch 12/50\n",
            "200/200 [==============================] - 35s 173ms/step - loss: 0.0245 - acc: 0.9932\n",
            "Epoch 13/50\n",
            "200/200 [==============================] - 34s 169ms/step - loss: 0.0100 - acc: 0.9973\n",
            "Epoch 14/50\n",
            "200/200 [==============================] - 34s 168ms/step - loss: 0.0048 - acc: 0.9984\n",
            "Epoch 15/50\n",
            "200/200 [==============================] - 34s 168ms/step - loss: 0.0037 - acc: 0.9990\n",
            "Epoch 16/50\n",
            "200/200 [==============================] - 34s 171ms/step - loss: 0.0158 - acc: 0.9956\n",
            "Epoch 17/50\n",
            "200/200 [==============================] - 34s 169ms/step - loss: 0.0098 - acc: 0.9974\n",
            "Epoch 18/50\n",
            "200/200 [==============================] - 34s 171ms/step - loss: 0.0040 - acc: 0.9991\n",
            "Epoch 19/50\n",
            "200/200 [==============================] - 34s 168ms/step - loss: 0.0051 - acc: 0.9989\n",
            "Epoch 20/50\n",
            "200/200 [==============================] - 34s 172ms/step - loss: 0.0031 - acc: 0.9995\n",
            "Epoch 21/50\n",
            "200/200 [==============================] - 33s 167ms/step - loss: 0.0013 - acc: 0.9996\n",
            "Epoch 22/50\n",
            "200/200 [==============================] - 34s 169ms/step - loss: 0.0015 - acc: 0.9998\n",
            "Epoch 23/50\n",
            "200/200 [==============================] - 34s 170ms/step - loss: 5.7301e-04 - acc: 0.9999\n",
            "Epoch 24/50\n",
            "200/200 [==============================] - 34s 168ms/step - loss: 4.5805e-04 - acc: 0.9999\n",
            "Epoch 25/50\n",
            "200/200 [==============================] - 34s 168ms/step - loss: 5.1148e-04 - acc: 0.9999\n",
            "Epoch 26/50\n",
            "200/200 [==============================] - 34s 172ms/step - loss: 4.1313e-04 - acc: 0.9999\n",
            "Epoch 27/50\n",
            "200/200 [==============================] - 35s 174ms/step - loss: 4.6265e-04 - acc: 0.9999\n",
            "Epoch 28/50\n",
            "200/200 [==============================] - 34s 170ms/step - loss: 4.0525e-04 - acc: 0.9998\n",
            "Epoch 29/50\n",
            "200/200 [==============================] - 34s 169ms/step - loss: 2.7211e-04 - acc: 1.0000\n",
            "Epoch 30/50\n",
            "200/200 [==============================] - 33s 166ms/step - loss: 3.0808e-04 - acc: 0.9999\n",
            "Epoch 31/50\n",
            "200/200 [==============================] - 33s 165ms/step - loss: 3.4805e-04 - acc: 0.9999\n",
            "Epoch 32/50\n",
            "200/200 [==============================] - 33s 163ms/step - loss: 4.4971e-04 - acc: 0.9998\n",
            "Epoch 33/50\n",
            "200/200 [==============================] - 34s 170ms/step - loss: 3.4806e-04 - acc: 0.9998\n",
            "Epoch 34/50\n",
            "200/200 [==============================] - 34s 170ms/step - loss: 4.2841e-04 - acc: 0.9999\n",
            "Epoch 35/50\n",
            "200/200 [==============================] - 33s 164ms/step - loss: 3.3267e-04 - acc: 0.9998\n",
            "Epoch 36/50\n",
            "200/200 [==============================] - 33s 163ms/step - loss: 4.3035e-04 - acc: 0.9999\n",
            "Epoch 37/50\n",
            "200/200 [==============================] - 32s 162ms/step - loss: 0.0245 - acc: 0.9941\n",
            "Epoch 38/50\n",
            "200/200 [==============================] - 33s 164ms/step - loss: 0.0476 - acc: 0.9874\n",
            "Epoch 39/50\n",
            "200/200 [==============================] - 33s 163ms/step - loss: 0.0152 - acc: 0.9954\n",
            "Epoch 40/50\n",
            "200/200 [==============================] - 33s 166ms/step - loss: 0.0070 - acc: 0.9985\n",
            "Epoch 41/50\n",
            "200/200 [==============================] - 33s 167ms/step - loss: 0.0060 - acc: 0.9990\n",
            "Epoch 42/50\n",
            "200/200 [==============================] - 32s 162ms/step - loss: 0.0011 - acc: 0.9998\n",
            "Epoch 43/50\n",
            "200/200 [==============================] - 32s 162ms/step - loss: 6.5140e-04 - acc: 0.9998\n",
            "Epoch 44/50\n",
            "200/200 [==============================] - 32s 162ms/step - loss: 5.5795e-04 - acc: 0.9999\n",
            "Epoch 45/50\n",
            "200/200 [==============================] - 32s 162ms/step - loss: 3.3050e-04 - acc: 1.0000\n",
            "Epoch 46/50\n",
            "200/200 [==============================] - 32s 162ms/step - loss: 3.2491e-04 - acc: 0.9999\n",
            "Epoch 47/50\n",
            "200/200 [==============================] - 33s 163ms/step - loss: 5.4246e-04 - acc: 0.9997\n",
            "Epoch 48/50\n",
            "200/200 [==============================] - 33s 166ms/step - loss: 0.0017 - acc: 0.9997\n",
            "Epoch 49/50\n",
            "200/200 [==============================] - 34s 169ms/step - loss: 4.6803e-04 - acc: 0.9999\n",
            "Epoch 50/50\n",
            "200/200 [==============================] - 33s 164ms/step - loss: 3.3523e-04 - acc: 0.9999\n",
            "63/63 [==============================] - 2s 12ms/step\n"
          ]
        }
      ]
    },
    {
      "cell_type": "code",
      "source": [
        "from sklearn.metrics import classification_report\n",
        "print(classification_report(y_test, ypred))\n",
        "print(\"Accuracy_Score: \\n\",accuracy_score(y_test, ypred))"
      ],
      "metadata": {
        "colab": {
          "base_uri": "https://localhost:8080/"
        },
        "id": "eaqlRa4bVwfH",
        "outputId": "774eec26-3e42-473c-85c2-7893b3fdfdf0"
      },
      "execution_count": null,
      "outputs": [
        {
          "output_type": "stream",
          "name": "stdout",
          "text": [
            "              precision    recall  f1-score   support\n",
            "\n",
            "           0       0.77      0.72      0.75       855\n",
            "           1       0.73      0.79      0.76       795\n",
            "           2       0.61      0.59      0.60       350\n",
            "\n",
            "    accuracy                           0.73      2000\n",
            "   macro avg       0.70      0.70      0.70      2000\n",
            "weighted avg       0.73      0.73      0.73      2000\n",
            "\n",
            "Accuracy_Score: \n",
            " 0.7265\n"
          ]
        }
      ]
    },
    {
      "cell_type": "code",
      "source": [
        "rnn = Sequential()\n",
        "\n",
        "rnn.add(Embedding(_vocab_len+1,700, input_length=int(max_len), mask_zero=True))\n",
        "\n",
        "rnn.add(GRU(units=32, activation=\"tanh\"))\n",
        "rnn.add(Dense(units=32, activation=\"relu\"))\n",
        "rnn.add(Dropout(0.2))\n",
        "\n",
        "rnn.add(Dense(units = 3,activation = \"softmax\"))\n",
        "\n",
        "rnn.compile(optimizer=\"adam\", loss=\"sparse_categorical_crossentropy\",metrics = [\"acc\"])\n",
        "\n",
        "rnn.fit(seqmattrain, y_train, batch_size=50, epochs=50)\n",
        "\n",
        "ypred = rnn.predict(seqmattest)\n",
        "\n",
        "ypred = np.argmax(ypred,axis =1)"
      ],
      "metadata": {
        "colab": {
          "base_uri": "https://localhost:8080/"
        },
        "id": "6RWcfcJRXeNZ",
        "outputId": "eb5081a1-c906-415b-db09-3d1de3bf0986"
      },
      "execution_count": null,
      "outputs": [
        {
          "output_type": "stream",
          "name": "stdout",
          "text": [
            "Epoch 1/50\n",
            "200/200 [==============================] - 35s 160ms/step - loss: 0.8599 - acc: 0.5974\n",
            "Epoch 2/50\n",
            "200/200 [==============================] - 32s 161ms/step - loss: 0.3795 - acc: 0.8741\n",
            "Epoch 3/50\n",
            "200/200 [==============================] - 32s 161ms/step - loss: 0.1817 - acc: 0.9429\n",
            "Epoch 4/50\n",
            "200/200 [==============================] - 33s 167ms/step - loss: 0.1030 - acc: 0.9708\n",
            "Epoch 5/50\n",
            "200/200 [==============================] - 33s 165ms/step - loss: 0.0552 - acc: 0.9840\n",
            "Epoch 6/50\n",
            "200/200 [==============================] - 32s 160ms/step - loss: 0.0398 - acc: 0.9892\n",
            "Epoch 7/50\n",
            "200/200 [==============================] - 32s 161ms/step - loss: 0.0289 - acc: 0.9923\n",
            "Epoch 8/50\n",
            "200/200 [==============================] - 32s 161ms/step - loss: 0.0215 - acc: 0.9946\n",
            "Epoch 9/50\n",
            "200/200 [==============================] - 32s 159ms/step - loss: 0.0111 - acc: 0.9969\n",
            "Epoch 10/50\n",
            "200/200 [==============================] - 32s 160ms/step - loss: 0.0075 - acc: 0.9981\n",
            "Epoch 11/50\n",
            "200/200 [==============================] - 33s 164ms/step - loss: 0.0067 - acc: 0.9977\n",
            "Epoch 12/50\n",
            "200/200 [==============================] - 33s 164ms/step - loss: 0.0032 - acc: 0.9992\n",
            "Epoch 13/50\n",
            "200/200 [==============================] - 32s 162ms/step - loss: 0.0023 - acc: 0.9993\n",
            "Epoch 14/50\n",
            "200/200 [==============================] - 32s 161ms/step - loss: 0.0022 - acc: 0.9994\n",
            "Epoch 15/50\n",
            "200/200 [==============================] - 32s 159ms/step - loss: 0.0076 - acc: 0.9985\n",
            "Epoch 16/50\n",
            "200/200 [==============================] - 32s 160ms/step - loss: 0.0076 - acc: 0.9978\n",
            "Epoch 17/50\n",
            "200/200 [==============================] - 32s 162ms/step - loss: 0.0176 - acc: 0.9954\n",
            "Epoch 18/50\n",
            "200/200 [==============================] - 32s 161ms/step - loss: 0.0190 - acc: 0.9937\n",
            "Epoch 19/50\n",
            "200/200 [==============================] - 33s 165ms/step - loss: 0.0198 - acc: 0.9938\n",
            "Epoch 20/50\n",
            "200/200 [==============================] - 33s 164ms/step - loss: 0.0157 - acc: 0.9953\n",
            "Epoch 21/50\n",
            "200/200 [==============================] - 32s 162ms/step - loss: 0.0065 - acc: 0.9982\n",
            "Epoch 22/50\n",
            "200/200 [==============================] - 32s 160ms/step - loss: 0.0025 - acc: 0.9997\n",
            "Epoch 23/50\n",
            "200/200 [==============================] - 32s 159ms/step - loss: 0.0012 - acc: 0.9998\n",
            "Epoch 24/50\n",
            "200/200 [==============================] - 32s 161ms/step - loss: 7.6013e-04 - acc: 0.9998\n",
            "Epoch 25/50\n",
            "200/200 [==============================] - 32s 161ms/step - loss: 5.5143e-04 - acc: 0.9999\n",
            "Epoch 26/50\n",
            "200/200 [==============================] - 33s 163ms/step - loss: 5.6061e-04 - acc: 0.9998\n",
            "Epoch 27/50\n",
            "200/200 [==============================] - 32s 161ms/step - loss: 5.5808e-04 - acc: 0.9999\n",
            "Epoch 28/50\n",
            "200/200 [==============================] - 31s 157ms/step - loss: 4.5586e-04 - acc: 0.9998\n",
            "Epoch 29/50\n",
            "200/200 [==============================] - 32s 158ms/step - loss: 3.0363e-04 - acc: 1.0000\n",
            "Epoch 30/50\n",
            "200/200 [==============================] - 31s 157ms/step - loss: 2.8486e-04 - acc: 1.0000\n",
            "Epoch 31/50\n",
            "200/200 [==============================] - 31s 156ms/step - loss: 2.8043e-04 - acc: 1.0000\n",
            "Epoch 32/50\n",
            "200/200 [==============================] - 32s 158ms/step - loss: 1.6444e-04 - acc: 1.0000\n",
            "Epoch 33/50\n",
            "200/200 [==============================] - 31s 157ms/step - loss: 1.2155e-04 - acc: 1.0000\n",
            "Epoch 34/50\n",
            "200/200 [==============================] - 32s 161ms/step - loss: 1.1338e-04 - acc: 1.0000\n",
            "Epoch 35/50\n",
            "200/200 [==============================] - 32s 162ms/step - loss: 1.0643e-04 - acc: 1.0000\n",
            "Epoch 36/50\n",
            "200/200 [==============================] - 31s 157ms/step - loss: 7.3723e-05 - acc: 1.0000\n",
            "Epoch 37/50\n",
            "200/200 [==============================] - 31s 157ms/step - loss: 1.3089e-04 - acc: 1.0000\n",
            "Epoch 38/50\n",
            "200/200 [==============================] - 31s 157ms/step - loss: 8.0810e-05 - acc: 1.0000\n",
            "Epoch 39/50\n",
            "200/200 [==============================] - 31s 157ms/step - loss: 7.1187e-05 - acc: 1.0000\n",
            "Epoch 40/50\n",
            "200/200 [==============================] - 32s 158ms/step - loss: 8.3580e-05 - acc: 1.0000\n",
            "Epoch 41/50\n",
            "200/200 [==============================] - 32s 159ms/step - loss: 7.7160e-05 - acc: 1.0000\n",
            "Epoch 42/50\n",
            "200/200 [==============================] - 31s 157ms/step - loss: 7.6291e-05 - acc: 1.0000\n",
            "Epoch 43/50\n",
            "200/200 [==============================] - 31s 156ms/step - loss: 0.0013 - acc: 0.9998\n",
            "Epoch 44/50\n",
            "200/200 [==============================] - 31s 156ms/step - loss: 0.0414 - acc: 0.9894\n",
            "Epoch 45/50\n",
            "200/200 [==============================] - 31s 157ms/step - loss: 0.0276 - acc: 0.9905\n",
            "Epoch 46/50\n",
            "200/200 [==============================] - 32s 159ms/step - loss: 0.0119 - acc: 0.9970\n",
            "Epoch 47/50\n",
            "200/200 [==============================] - 31s 157ms/step - loss: 0.0036 - acc: 0.9991\n",
            "Epoch 48/50\n",
            "200/200 [==============================] - 33s 163ms/step - loss: 0.0012 - acc: 0.9997\n",
            "Epoch 49/50\n",
            "200/200 [==============================] - 32s 158ms/step - loss: 4.2145e-04 - acc: 1.0000\n",
            "Epoch 50/50\n",
            "200/200 [==============================] - 31s 157ms/step - loss: 9.4415e-04 - acc: 0.9999\n",
            "63/63 [==============================] - 2s 11ms/step\n"
          ]
        }
      ]
    },
    {
      "cell_type": "code",
      "source": [
        "from sklearn.metrics import classification_report\n",
        "print(classification_report(y_test, ypred))\n",
        "print(\"Accuracy_Score: \\n\",accuracy_score(y_test, ypred))"
      ],
      "metadata": {
        "colab": {
          "base_uri": "https://localhost:8080/"
        },
        "id": "q3Z19nc0XnJy",
        "outputId": "f9b7bbd2-41dc-40f9-e76a-98e6c30da498"
      },
      "execution_count": null,
      "outputs": [
        {
          "output_type": "stream",
          "name": "stdout",
          "text": [
            "              precision    recall  f1-score   support\n",
            "\n",
            "           0       0.74      0.77      0.75       855\n",
            "           1       0.73      0.71      0.72       795\n",
            "           2       0.64      0.59      0.61       350\n",
            "\n",
            "    accuracy                           0.72      2000\n",
            "   macro avg       0.70      0.69      0.70      2000\n",
            "weighted avg       0.72      0.72      0.72      2000\n",
            "\n",
            "Accuracy_Score: \n",
            " 0.7185\n"
          ]
        }
      ]
    },
    {
      "cell_type": "code",
      "source": [],
      "metadata": {
        "id": "DxsRqyZSTNDl"
      },
      "execution_count": null,
      "outputs": []
    }
  ],
  "metadata": {
    "colab": {
      "provenance": []
    },
    "gpuClass": "standard",
    "kernelspec": {
      "display_name": "Python 3",
      "name": "python3"
    },
    "language_info": {
      "name": "python"
    },
    "accelerator": "GPU"
  },
  "nbformat": 4,
  "nbformat_minor": 0
}